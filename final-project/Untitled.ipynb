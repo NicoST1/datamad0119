{
 "cells": [
  {
   "cell_type": "code",
   "execution_count": 54,
   "metadata": {},
   "outputs": [],
   "source": [
    "import pandas as pd\n",
    "import math\n",
    "import numpy as np\n",
    "import sklearn\n",
    "import requests\n",
    "from bs4 import BeautifulSoup\n",
    "%matplotlib inline\n",
    "import seaborn as sns\n",
    "import matplotlib.pyplot as plt\n",
    "from sklearn import datasets\n",
    "from sklearn.model_selection import train_test_split\n",
    "from sklearn import svm, preprocessing\n",
    "from sklearn import metrics\n",
    "from sklearn.metrics import confusion_matrix\n",
    "from sklearn.utils.multiclass import unique_labels\n",
    "from sklearn.model_selection import cross_val_score\n",
    "from sklearn.linear_model import LogisticRegression\n",
    "from sklearn.multiclass import OneVsRestClassifier\n",
    "from sklearn.ensemble import RandomForestClassifier\n",
    "from sklearn import linear_model\n",
    "from sklearn.preprocessing import label_binarize\n",
    "from sklearn.metrics import roc_curve, auc\n",
    "from scipy import interp\n",
    "from itertools import cycle\n",
    "from sklearn.cluster import KMeans\n",
    "from sklearn.preprocessing import StandardScaler\n",
    "from sklearn.ensemble import RandomForestRegressor\n",
    "from lxml import html\n",
    "import urllib.request\n",
    "from selenium import webdriver\n",
    "import selenium\n",
    "import time\n",
    "import statsmodels.formula.api as sm\n",
    "from sklearn.metrics import precision_score, recall_score, f1_score, balanced_accuracy_score, accuracy_score\n",
    "import re"
   ]
  },
  {
   "cell_type": "markdown",
   "metadata": {},
   "source": [
    "# Obtaining a database"
   ]
  },
  {
   "cell_type": "code",
   "execution_count": 47,
   "metadata": {},
   "outputs": [],
   "source": [
    "df = pd.read_csv('epldata_final.csv')"
   ]
  },
  {
   "cell_type": "code",
   "execution_count": 48,
   "metadata": {},
   "outputs": [
    {
     "data": {
      "text/html": [
       "<div>\n",
       "<style scoped>\n",
       "    .dataframe tbody tr th:only-of-type {\n",
       "        vertical-align: middle;\n",
       "    }\n",
       "\n",
       "    .dataframe tbody tr th {\n",
       "        vertical-align: top;\n",
       "    }\n",
       "\n",
       "    .dataframe thead th {\n",
       "        text-align: right;\n",
       "    }\n",
       "</style>\n",
       "<table border=\"1\" class=\"dataframe\">\n",
       "  <thead>\n",
       "    <tr style=\"text-align: right;\">\n",
       "      <th></th>\n",
       "      <th>name</th>\n",
       "      <th>club</th>\n",
       "      <th>age</th>\n",
       "      <th>position</th>\n",
       "      <th>position_cat</th>\n",
       "      <th>market_value</th>\n",
       "      <th>page_views</th>\n",
       "      <th>fpl_value</th>\n",
       "      <th>fpl_sel</th>\n",
       "      <th>fpl_points</th>\n",
       "      <th>region</th>\n",
       "      <th>nationality</th>\n",
       "      <th>new_foreign</th>\n",
       "      <th>age_cat</th>\n",
       "      <th>club_id</th>\n",
       "      <th>big_club</th>\n",
       "      <th>new_signing</th>\n",
       "    </tr>\n",
       "  </thead>\n",
       "  <tbody>\n",
       "    <tr>\n",
       "      <th>0</th>\n",
       "      <td>Alexis Sanchez</td>\n",
       "      <td>Arsenal</td>\n",
       "      <td>28</td>\n",
       "      <td>LW</td>\n",
       "      <td>1</td>\n",
       "      <td>65.0</td>\n",
       "      <td>4329</td>\n",
       "      <td>12.0</td>\n",
       "      <td>17.10%</td>\n",
       "      <td>264</td>\n",
       "      <td>3.0</td>\n",
       "      <td>Chile</td>\n",
       "      <td>0</td>\n",
       "      <td>4</td>\n",
       "      <td>1</td>\n",
       "      <td>1</td>\n",
       "      <td>0</td>\n",
       "    </tr>\n",
       "    <tr>\n",
       "      <th>1</th>\n",
       "      <td>Mesut Ozil</td>\n",
       "      <td>Arsenal</td>\n",
       "      <td>28</td>\n",
       "      <td>AM</td>\n",
       "      <td>1</td>\n",
       "      <td>50.0</td>\n",
       "      <td>4395</td>\n",
       "      <td>9.5</td>\n",
       "      <td>5.60%</td>\n",
       "      <td>167</td>\n",
       "      <td>2.0</td>\n",
       "      <td>Germany</td>\n",
       "      <td>0</td>\n",
       "      <td>4</td>\n",
       "      <td>1</td>\n",
       "      <td>1</td>\n",
       "      <td>0</td>\n",
       "    </tr>\n",
       "    <tr>\n",
       "      <th>2</th>\n",
       "      <td>Petr Cech</td>\n",
       "      <td>Arsenal</td>\n",
       "      <td>35</td>\n",
       "      <td>GK</td>\n",
       "      <td>4</td>\n",
       "      <td>7.0</td>\n",
       "      <td>1529</td>\n",
       "      <td>5.5</td>\n",
       "      <td>5.90%</td>\n",
       "      <td>134</td>\n",
       "      <td>2.0</td>\n",
       "      <td>Czech Republic</td>\n",
       "      <td>0</td>\n",
       "      <td>6</td>\n",
       "      <td>1</td>\n",
       "      <td>1</td>\n",
       "      <td>0</td>\n",
       "    </tr>\n",
       "    <tr>\n",
       "      <th>3</th>\n",
       "      <td>Theo Walcott</td>\n",
       "      <td>Arsenal</td>\n",
       "      <td>28</td>\n",
       "      <td>RW</td>\n",
       "      <td>1</td>\n",
       "      <td>20.0</td>\n",
       "      <td>2393</td>\n",
       "      <td>7.5</td>\n",
       "      <td>1.50%</td>\n",
       "      <td>122</td>\n",
       "      <td>1.0</td>\n",
       "      <td>England</td>\n",
       "      <td>0</td>\n",
       "      <td>4</td>\n",
       "      <td>1</td>\n",
       "      <td>1</td>\n",
       "      <td>0</td>\n",
       "    </tr>\n",
       "    <tr>\n",
       "      <th>4</th>\n",
       "      <td>Laurent Koscielny</td>\n",
       "      <td>Arsenal</td>\n",
       "      <td>31</td>\n",
       "      <td>CB</td>\n",
       "      <td>3</td>\n",
       "      <td>22.0</td>\n",
       "      <td>912</td>\n",
       "      <td>6.0</td>\n",
       "      <td>0.70%</td>\n",
       "      <td>121</td>\n",
       "      <td>2.0</td>\n",
       "      <td>France</td>\n",
       "      <td>0</td>\n",
       "      <td>4</td>\n",
       "      <td>1</td>\n",
       "      <td>1</td>\n",
       "      <td>0</td>\n",
       "    </tr>\n",
       "  </tbody>\n",
       "</table>\n",
       "</div>"
      ],
      "text/plain": [
       "                name     club  age position  position_cat  market_value  \\\n",
       "0     Alexis Sanchez  Arsenal   28       LW             1          65.0   \n",
       "1         Mesut Ozil  Arsenal   28       AM             1          50.0   \n",
       "2          Petr Cech  Arsenal   35       GK             4           7.0   \n",
       "3       Theo Walcott  Arsenal   28       RW             1          20.0   \n",
       "4  Laurent Koscielny  Arsenal   31       CB             3          22.0   \n",
       "\n",
       "   page_views  fpl_value fpl_sel  fpl_points  region     nationality  \\\n",
       "0        4329       12.0  17.10%         264     3.0           Chile   \n",
       "1        4395        9.5   5.60%         167     2.0         Germany   \n",
       "2        1529        5.5   5.90%         134     2.0  Czech Republic   \n",
       "3        2393        7.5   1.50%         122     1.0         England   \n",
       "4         912        6.0   0.70%         121     2.0          France   \n",
       "\n",
       "   new_foreign  age_cat  club_id  big_club  new_signing  \n",
       "0            0        4        1         1            0  \n",
       "1            0        4        1         1            0  \n",
       "2            0        6        1         1            0  \n",
       "3            0        4        1         1            0  \n",
       "4            0        4        1         1            0  "
      ]
     },
     "execution_count": 48,
     "metadata": {},
     "output_type": "execute_result"
    }
   ],
   "source": [
    "df.head()"
   ]
  },
  {
   "cell_type": "code",
   "execution_count": 49,
   "metadata": {},
   "outputs": [
    {
     "data": {
      "text/plain": [
       "name             object\n",
       "club             object\n",
       "age               int64\n",
       "position         object\n",
       "position_cat      int64\n",
       "market_value    float64\n",
       "page_views        int64\n",
       "fpl_value       float64\n",
       "fpl_sel          object\n",
       "fpl_points        int64\n",
       "region          float64\n",
       "nationality      object\n",
       "new_foreign       int64\n",
       "age_cat           int64\n",
       "club_id           int64\n",
       "big_club          int64\n",
       "new_signing       int64\n",
       "dtype: object"
      ]
     },
     "execution_count": 49,
     "metadata": {},
     "output_type": "execute_result"
    }
   ],
   "source": [
    "df.dtypes"
   ]
  },
  {
   "cell_type": "code",
   "execution_count": 8,
   "metadata": {},
   "outputs": [],
   "source": [
    "# Web scarping to obtain all prices for which each player was sold\n",
    "df_all = []\n",
    "for x in range(7, 18):\n",
    "    if x < 10:\n",
    "        url = 'https://en.wikipedia.org/wiki/List_of_English_football_transfers_summer_200{}'.format(x)\n",
    "    else:\n",
    "        url = 'https://en.wikipedia.org/wiki/List_of_English_football_transfers_summer_20{}'.format(x)\n",
    "    html = requests.get(url).content\n",
    "    soup = BeautifulSoup(html, \"lxml\")\n",
    "    text = [element.text.strip().replace(',', '').replace('\\n\\n\\n', ',').replace('\\n\\n', ',').replace('\\n', ',') for element in soup.find_all('table',{'class':'wikitable sortable'})]\n",
    "    ans = text[0].split(',')\n",
    "    l = []\n",
    "    for x in range(5, len(ans),5):\n",
    "        l.append(ans[x:x+5])\n",
    "    df_all.append(l)"
   ]
  },
  {
   "cell_type": "code",
   "execution_count": 10,
   "metadata": {},
   "outputs": [],
   "source": [
    "df7 = pd.DataFrame(df_all[0])[[1, 4]]\n",
    "df7 = df7.rename({1: 'name', 4: 'price1'}, axis = 1)\n",
    "df8 = pd.DataFrame(df_all[1])[[1, 4]]\n",
    "df8 = df8.rename({1: 'name', 4: 'price2'}, axis = 1)\n",
    "df9 = pd.DataFrame(df_all[2])[[1, 4]]\n",
    "df9 = df9.rename({1: 'name', 4: 'price3'}, axis = 1)\n",
    "df10 = pd.DataFrame(df_all[3])[[1, 4]]\n",
    "df10 = df10.rename({1: 'name', 4: 'price4'}, axis = 1)\n",
    "df11 = pd.DataFrame(df_all[4])[[1, 4]]\n",
    "df11 = df11.rename({1: 'name', 4: 'price5'}, axis = 1)\n",
    "df12 = pd.DataFrame(df_all[5])[[1, 4]]\n",
    "df12 = df12.rename({1: 'name', 4: 'price6'}, axis = 1)\n",
    "df13 = pd.DataFrame(df_all[6])[[1, 4]]\n",
    "df13 = df13.rename({1: 'name', 4: 'price7'}, axis = 1)\n",
    "df14 = pd.DataFrame(df_all[7])[[1, 4]]\n",
    "df14 = df14.rename({1: 'name', 4: 'price8'}, axis = 1)\n",
    "df15 = pd.DataFrame(df_all[8])[[1, 4]]\n",
    "df15 = df15.rename({1: 'name', 4: 'price9'}, axis = 1)\n",
    "df16 = pd.DataFrame(df_all[9])[[1, 4]]\n",
    "df16 = df16.rename({1: 'name', 4: 'price10'}, axis = 1)\n",
    "df17 = pd.DataFrame(df_all[10])[[1, 4]]\n",
    "df17 = df17.rename({1: 'name', 4: 'price11'}, axis = 1)"
   ]
  },
  {
   "cell_type": "code",
   "execution_count": 50,
   "metadata": {},
   "outputs": [],
   "source": [
    "transfer = pd.read_csv('transfer.csv')"
   ]
  },
  {
   "cell_type": "code",
   "execution_count": 51,
   "metadata": {},
   "outputs": [],
   "source": [
    "# Webscraping to obtain goals, apps, wins, assits for each player\n",
    "page = requests.get('https://www.premierleague.com/clubs?se=79')\n",
    "tree = html.fromstring(page.content)"
   ]
  },
  {
   "cell_type": "code",
   "execution_count": 52,
   "metadata": {},
   "outputs": [],
   "source": [
    "#Using the page's CSS classes, extract all links pointing to a team\n",
    "linkLocation = tree.cssselect('.indexItem')\n",
    "teamLinks = []\n",
    "\n",
    "for i in range(0,20):\n",
    "    \n",
    "    #Find page link is going to.\n",
    "    temp = linkLocation[i].attrib['href']\n",
    "    #Add the link to the website domain.\n",
    "    temp = \"http://www.premierleague.com/\" + temp + '?se=79'\n",
    "    #Change the link text so that it points to the squad list.\n",
    "    temp = temp.replace(\"overview\", \"squad\")\n",
    "    teamLinks.append(temp)"
   ]
  },
  {
   "cell_type": "code",
   "execution_count": 55,
   "metadata": {},
   "outputs": [],
   "source": [
    "playerLink1 = []\n",
    "playerLink2 = []\n",
    "\n",
    "\n",
    "for i in range(len(teamLinks)):\n",
    "    chrome_options = webdriver.ChromeOptions()\n",
    "    chrome_options.add_argument('--headless')\n",
    "    chrome_options.add_argument('window-size=1920x1080');\n",
    "    driver = webdriver.Chrome('/Users/grsanchez/Downloads/chromedriver-2', options=chrome_options)\n",
    "    driver.get(teamLinks[i])\n",
    "    time.sleep(10)\n",
    "    squadPage=driver.page_source\n",
    "    soup = BeautifulSoup(squadPage, 'html.parser')\n",
    "    playerLocation = soup.findAll('a', class_=re.compile(\"playerOverviewCard\"))\n",
    "    for i in range(len(playerLocation)):\n",
    "\n",
    "        #Save the link, complete with domain.\n",
    "        playerLink1.append('http:' + playerLocation[i]['href'])\n",
    "        #For the second link, change the page from player overview to stats\n",
    "        playerLink2.append(playerLink1[i].replace(\"overview\", \"stats\"))\n",
    "\n",
    "    driver.quit()"
   ]
  },
  {
   "cell_type": "code",
   "execution_count": 56,
   "metadata": {},
   "outputs": [],
   "source": [
    "data = []\n",
    "for i in range(len(playerLink1)):\n",
    "\n",
    "    #...download and process the two pages collected earlier...\n",
    "    playerPage1 = requests.get(playerLink1[i])\n",
    "    playerTree1 = html.fromstring(playerPage1.content)\n",
    "    playerPage2 = requests.get(playerLink2[i])\n",
    "    playerTree2 = html.fromstring(playerPage2.content)\n",
    "\n",
    "    #...find the relevant datapoint for each player, starting with name...\n",
    "    try:\n",
    "        tempName = str(playerTree1.cssselect('div.name')[0].text_content())\n",
    "    except IndexError:\n",
    "        tempName = str('Nan')\n",
    "    \n",
    "    #...and team, but if there isn't a team, return \"BLANK\"...\n",
    "    try:\n",
    "        tempGoals = playerTree2.cssselect('.statgoals')[0].text_content()\n",
    "        tempGoals = int(re.search(r'\\d+', tempGoals).group())\n",
    "    except IndexError:\n",
    "        tempGoals = float('NaN')\n",
    "    \n",
    "    #...and age, but if this isn't there, leave a blank 'no number' number...\n",
    "    try:\n",
    "        tempAssists = playerTree2.cssselect('.statgoal_assist')[0].text_content()\n",
    "        tempAssists = int(re.search(r'\\d+', tempAssists).group())\n",
    "    except IndexError:\n",
    "        tempAssists = float('NaN')\n",
    "\n",
    "    #...and appearances. This is a bit of a mess on the page, so tidy it first...\n",
    "    try:\n",
    "        tempApps = playerTree2.cssselect('.statappearances')[0].text_content()\n",
    "        tempApps = int(re.search(r'\\d+', tempApps).group())\n",
    "    except IndexError:\n",
    "        tempApps = float('NaN')\n",
    "\n",
    "    #...and height. Needs tidying again...\n",
    "    try:\n",
    "        tempWins = playerTree2.cssselect('.statwins')[0].text_content()\n",
    "        tempWins = int(re.search(r'\\d+', tempWins).group())\n",
    "    except IndexError:\n",
    "        tempWins = float('NaN')\n",
    "    \n",
    "    data.append([tempName, tempGoals, tempAssists, tempApps, tempWins])\n",
    "     "
   ]
  },
  {
   "cell_type": "code",
   "execution_count": 57,
   "metadata": {},
   "outputs": [],
   "source": [
    "stats = pd.DataFrame(data, columns = ['name', 'goals', 'assists', 'apps', 'wins'])"
   ]
  },
  {
   "cell_type": "code",
   "execution_count": 58,
   "metadata": {},
   "outputs": [],
   "source": [
    "# Replacing special characters in the names of football players obtained. This is important so a merge on player names\n",
    "# is possible.\n",
    "name_mod = []\n",
    "for i in stats.name:\n",
    "    i = i.replace('Ãzil', 'Ozil').replace('Ã©', 'e').replace('Ã¯', 'i').replace('Ã£', 'a').replace('Ãn', 'in').replace('Ã©', 'e').replace('Ã¡', 'a').replace('Ã¤', 'a').replace('Ã«', 'e').replace('Ã¼', 'u').replace('Ã¸', 'o').replace('Ã¶', 'o').replace('Ã ', 'a').replace('Ã¨', 'e').replace('Ã', 'i').replace('­', '').replace('iº', 'u')\n",
    "    name_mod.append(i)"
   ]
  },
  {
   "cell_type": "code",
   "execution_count": 59,
   "metadata": {},
   "outputs": [],
   "source": [
    "stats.name = name_mod"
   ]
  },
  {
   "cell_type": "code",
   "execution_count": 60,
   "metadata": {},
   "outputs": [],
   "source": [
    "players = df.merge(stats, how = 'left', on = 'name')\n",
    "players['price'] = players['market_value']\n",
    "players.drop('market_value', axis = 1, inplace = True)\n",
    "players.goals = players.goals/players.apps\n",
    "players.assists = players.assists/players.apps\n",
    "players.drop('apps', axis = 1, inplace = True)\n",
    "players.assists.fillna(0.1, inplace = True)\n",
    "players.goals.fillna(0.08, inplace = True)"
   ]
  },
  {
   "cell_type": "code",
   "execution_count": 61,
   "metadata": {},
   "outputs": [
    {
     "name": "stderr",
     "output_type": "stream",
     "text": [
      "/anaconda3/lib/python3.7/site-packages/numpy/core/fromnumeric.py:2920: RuntimeWarning: Mean of empty slice.\n",
      "  out=out, **kwargs)\n",
      "/anaconda3/lib/python3.7/site-packages/numpy/core/_methods.py:85: RuntimeWarning: invalid value encountered in double_scalars\n",
      "  ret = ret.dtype.type(ret / rcount)\n"
     ]
    }
   ],
   "source": [
    "# All the previous prices at which players were sold also contained whether they were on loan or whether they have\n",
    "# been in a team since the youth academy. If a player was on loan I decided that it meant that the player was\n",
    "# underperforming in his new club hence his new market value at that point is 70% of his previous market-value\n",
    "# For those players playing in a team since the youth academy, it probably meant they were young so i just applied\n",
    "# a price of 400,000 to those players.\n",
    "\n",
    "fees_all = []\n",
    "for c in range(len(transfer)):\n",
    "    tran = list(transfer.iloc[c][1:].values)\n",
    "    fees = []\n",
    "    for x in range(len(tran)):\n",
    "        if tran[x] == 'loan':\n",
    "            try:\n",
    "                if type(tran[x-1]) == str:\n",
    "                    fees.append((0.7*float(tran[x-1]))/10**6)\n",
    "            except:\n",
    "                fees.append(0.25)\n",
    "        elif tran[x] == 'free':\n",
    "            fees.append(0.20)\n",
    "        elif tran[x] == 'youth':\n",
    "            fees.append(0.4)\n",
    "        elif type(tran[x]) == str:\n",
    "            fees.append(float(tran[x])/10**6)\n",
    "    fees_all.append(fees)\n",
    "\n",
    "# Here I obtain information about the previous market-values of a player. I take a mean, a max, and whether the player\n",
    "# is going up or down in price.\n",
    "fee_stat = []\n",
    "for fee in fees_all:\n",
    "    try:\n",
    "        maximum = max(fee)\n",
    "        if fee[len(fee)-1] > fee[len(fee)-2]:\n",
    "            x = 1\n",
    "        else:\n",
    "            x = 0\n",
    "    except:\n",
    "        x = 0.5\n",
    "        maximum = 0\n",
    "    fee_stat.append([np.mean(fee), maximum, x])\n",
    "    \n",
    "transfer_stats = pd.concat([transfer['name'], pd.DataFrame(fee_stat, columns = ['mean_fee', 'max_fee', 'up_do'])], axis=1)"
   ]
  },
  {
   "cell_type": "code",
   "execution_count": 62,
   "metadata": {},
   "outputs": [],
   "source": [
    "players = players.merge(transfer_stats, how = 'left', on = 'name')"
   ]
  },
  {
   "cell_type": "code",
   "execution_count": 63,
   "metadata": {},
   "outputs": [],
   "source": [
    "players.dropna(inplace = True)\n",
    "players.reset_index(inplace = True, drop = True)"
   ]
  },
  {
   "cell_type": "code",
   "execution_count": 64,
   "metadata": {
    "scrolled": true
   },
   "outputs": [],
   "source": [
    "players['fpl_sel'] = [float(i.strip('%'))/100 for i in players['fpl_sel']] "
   ]
  },
  {
   "cell_type": "code",
   "execution_count": 65,
   "metadata": {},
   "outputs": [],
   "source": [
    "players = players.sample(frac=1)\n",
    "players.reset_index(inplace = True, drop=True)"
   ]
  },
  {
   "cell_type": "code",
   "execution_count": 66,
   "metadata": {},
   "outputs": [],
   "source": [
    "players.to_csv(r'\\Users\\grsanchez\\labs\\datamad0119\\final-project', index=False)"
   ]
  },
  {
   "cell_type": "code",
   "execution_count": 67,
   "metadata": {},
   "outputs": [],
   "source": [
    "players = pd.read_csv('playersCSV')"
   ]
  },
  {
   "cell_type": "markdown",
   "metadata": {},
   "source": [
    "# Applying different models to database"
   ]
  },
  {
   "cell_type": "code",
   "execution_count": 68,
   "metadata": {},
   "outputs": [
    {
     "data": {
      "text/html": [
       "<div>\n",
       "<style scoped>\n",
       "    .dataframe tbody tr th:only-of-type {\n",
       "        vertical-align: middle;\n",
       "    }\n",
       "\n",
       "    .dataframe tbody tr th {\n",
       "        vertical-align: top;\n",
       "    }\n",
       "\n",
       "    .dataframe thead th {\n",
       "        text-align: right;\n",
       "    }\n",
       "</style>\n",
       "<table border=\"1\" class=\"dataframe\">\n",
       "  <thead>\n",
       "    <tr style=\"text-align: right;\">\n",
       "      <th></th>\n",
       "      <th>name</th>\n",
       "      <th>club</th>\n",
       "      <th>age</th>\n",
       "      <th>position</th>\n",
       "      <th>position_cat</th>\n",
       "      <th>page_views</th>\n",
       "      <th>fpl_value</th>\n",
       "      <th>fpl_sel</th>\n",
       "      <th>fpl_points</th>\n",
       "      <th>region</th>\n",
       "      <th>...</th>\n",
       "      <th>club_id</th>\n",
       "      <th>big_club</th>\n",
       "      <th>new_signing</th>\n",
       "      <th>goals</th>\n",
       "      <th>assists</th>\n",
       "      <th>wins</th>\n",
       "      <th>price</th>\n",
       "      <th>mean_fee</th>\n",
       "      <th>max_fee</th>\n",
       "      <th>up_do</th>\n",
       "    </tr>\n",
       "  </thead>\n",
       "  <tbody>\n",
       "    <tr>\n",
       "      <th>0</th>\n",
       "      <td>Markus Suttner</td>\n",
       "      <td>Brighton+and+Hove</td>\n",
       "      <td>30</td>\n",
       "      <td>LB</td>\n",
       "      <td>3</td>\n",
       "      <td>23</td>\n",
       "      <td>4.5</td>\n",
       "      <td>0.002</td>\n",
       "      <td>0</td>\n",
       "      <td>2.0</td>\n",
       "      <td>...</td>\n",
       "      <td>3</td>\n",
       "      <td>0</td>\n",
       "      <td>0</td>\n",
       "      <td>0.090909</td>\n",
       "      <td>0.038961</td>\n",
       "      <td>44.0</td>\n",
       "      <td>2.0</td>\n",
       "      <td>2.3400</td>\n",
       "      <td>4.05</td>\n",
       "      <td>1.0</td>\n",
       "    </tr>\n",
       "    <tr>\n",
       "      <th>1</th>\n",
       "      <td>Ross Barkley</td>\n",
       "      <td>Everton</td>\n",
       "      <td>23</td>\n",
       "      <td>AM</td>\n",
       "      <td>1</td>\n",
       "      <td>1413</td>\n",
       "      <td>7.5</td>\n",
       "      <td>0.007</td>\n",
       "      <td>144</td>\n",
       "      <td>1.0</td>\n",
       "      <td>...</td>\n",
       "      <td>7</td>\n",
       "      <td>0</td>\n",
       "      <td>0</td>\n",
       "      <td>0.046784</td>\n",
       "      <td>0.105263</td>\n",
       "      <td>82.0</td>\n",
       "      <td>25.0</td>\n",
       "      <td>9.6300</td>\n",
       "      <td>15.21</td>\n",
       "      <td>1.0</td>\n",
       "    </tr>\n",
       "    <tr>\n",
       "      <th>2</th>\n",
       "      <td>Dusan Tadic</td>\n",
       "      <td>Southampton</td>\n",
       "      <td>28</td>\n",
       "      <td>LW</td>\n",
       "      <td>1</td>\n",
       "      <td>458</td>\n",
       "      <td>6.5</td>\n",
       "      <td>0.049</td>\n",
       "      <td>108</td>\n",
       "      <td>2.0</td>\n",
       "      <td>...</td>\n",
       "      <td>14</td>\n",
       "      <td>0</td>\n",
       "      <td>0</td>\n",
       "      <td>0.080000</td>\n",
       "      <td>0.100000</td>\n",
       "      <td>0.0</td>\n",
       "      <td>17.0</td>\n",
       "      <td>0.4000</td>\n",
       "      <td>0.40</td>\n",
       "      <td>0.0</td>\n",
       "    </tr>\n",
       "    <tr>\n",
       "      <th>3</th>\n",
       "      <td>Sadio Mane</td>\n",
       "      <td>Liverpool</td>\n",
       "      <td>25</td>\n",
       "      <td>LW</td>\n",
       "      <td>1</td>\n",
       "      <td>3219</td>\n",
       "      <td>9.5</td>\n",
       "      <td>0.053</td>\n",
       "      <td>156</td>\n",
       "      <td>4.0</td>\n",
       "      <td>...</td>\n",
       "      <td>10</td>\n",
       "      <td>1</td>\n",
       "      <td>1</td>\n",
       "      <td>0.359813</td>\n",
       "      <td>0.130841</td>\n",
       "      <td>119.0</td>\n",
       "      <td>40.0</td>\n",
       "      <td>20.4600</td>\n",
       "      <td>37.08</td>\n",
       "      <td>1.0</td>\n",
       "    </tr>\n",
       "    <tr>\n",
       "      <th>4</th>\n",
       "      <td>Nathan Ake</td>\n",
       "      <td>Bournemouth</td>\n",
       "      <td>22</td>\n",
       "      <td>CB</td>\n",
       "      <td>3</td>\n",
       "      <td>1274</td>\n",
       "      <td>5.0</td>\n",
       "      <td>0.115</td>\n",
       "      <td>55</td>\n",
       "      <td>2.0</td>\n",
       "      <td>...</td>\n",
       "      <td>2</td>\n",
       "      <td>0</td>\n",
       "      <td>0</td>\n",
       "      <td>0.044444</td>\n",
       "      <td>0.200000</td>\n",
       "      <td>27.0</td>\n",
       "      <td>8.0</td>\n",
       "      <td>4.4488</td>\n",
       "      <td>20.52</td>\n",
       "      <td>1.0</td>\n",
       "    </tr>\n",
       "  </tbody>\n",
       "</table>\n",
       "<p>5 rows × 23 columns</p>\n",
       "</div>"
      ],
      "text/plain": [
       "             name               club  age position  position_cat  page_views  \\\n",
       "0  Markus Suttner  Brighton+and+Hove   30       LB             3          23   \n",
       "1    Ross Barkley            Everton   23       AM             1        1413   \n",
       "2     Dusan Tadic        Southampton   28       LW             1         458   \n",
       "3      Sadio Mane          Liverpool   25       LW             1        3219   \n",
       "4      Nathan Ake        Bournemouth   22       CB             3        1274   \n",
       "\n",
       "   fpl_value  fpl_sel  fpl_points  region  ...   club_id  big_club  \\\n",
       "0        4.5    0.002           0     2.0  ...         3         0   \n",
       "1        7.5    0.007         144     1.0  ...         7         0   \n",
       "2        6.5    0.049         108     2.0  ...        14         0   \n",
       "3        9.5    0.053         156     4.0  ...        10         1   \n",
       "4        5.0    0.115          55     2.0  ...         2         0   \n",
       "\n",
       "   new_signing     goals   assists   wins  price  mean_fee  max_fee  up_do  \n",
       "0            0  0.090909  0.038961   44.0    2.0    2.3400     4.05    1.0  \n",
       "1            0  0.046784  0.105263   82.0   25.0    9.6300    15.21    1.0  \n",
       "2            0  0.080000  0.100000    0.0   17.0    0.4000     0.40    0.0  \n",
       "3            1  0.359813  0.130841  119.0   40.0   20.4600    37.08    1.0  \n",
       "4            0  0.044444  0.200000   27.0    8.0    4.4488    20.52    1.0  \n",
       "\n",
       "[5 rows x 23 columns]"
      ]
     },
     "execution_count": 68,
     "metadata": {},
     "output_type": "execute_result"
    }
   ],
   "source": [
    "players.head()"
   ]
  },
  {
   "cell_type": "code",
   "execution_count": 69,
   "metadata": {},
   "outputs": [
    {
     "data": {
      "text/html": [
       "<div>\n",
       "<style scoped>\n",
       "    .dataframe tbody tr th:only-of-type {\n",
       "        vertical-align: middle;\n",
       "    }\n",
       "\n",
       "    .dataframe tbody tr th {\n",
       "        vertical-align: top;\n",
       "    }\n",
       "\n",
       "    .dataframe thead th {\n",
       "        text-align: right;\n",
       "    }\n",
       "</style>\n",
       "<table border=\"1\" class=\"dataframe\">\n",
       "  <thead>\n",
       "    <tr style=\"text-align: right;\">\n",
       "      <th></th>\n",
       "      <th>age</th>\n",
       "      <th>position_cat</th>\n",
       "      <th>page_views</th>\n",
       "      <th>fpl_value</th>\n",
       "      <th>fpl_sel</th>\n",
       "      <th>fpl_points</th>\n",
       "      <th>region</th>\n",
       "      <th>new_foreign</th>\n",
       "      <th>age_cat</th>\n",
       "      <th>club_id</th>\n",
       "      <th>big_club</th>\n",
       "      <th>new_signing</th>\n",
       "      <th>goals</th>\n",
       "      <th>assists</th>\n",
       "      <th>wins</th>\n",
       "      <th>price</th>\n",
       "      <th>mean_fee</th>\n",
       "      <th>max_fee</th>\n",
       "      <th>up_do</th>\n",
       "    </tr>\n",
       "  </thead>\n",
       "  <tbody>\n",
       "    <tr>\n",
       "      <th>count</th>\n",
       "      <td>416.000000</td>\n",
       "      <td>416.000000</td>\n",
       "      <td>416.000000</td>\n",
       "      <td>416.000000</td>\n",
       "      <td>416.000000</td>\n",
       "      <td>416.000000</td>\n",
       "      <td>416.000000</td>\n",
       "      <td>416.000000</td>\n",
       "      <td>416.000000</td>\n",
       "      <td>416.000000</td>\n",
       "      <td>416.000000</td>\n",
       "      <td>416.000000</td>\n",
       "      <td>416.000000</td>\n",
       "      <td>416.000000</td>\n",
       "      <td>416.000000</td>\n",
       "      <td>416.000000</td>\n",
       "      <td>416.000000</td>\n",
       "      <td>416.000000</td>\n",
       "      <td>416.000000</td>\n",
       "    </tr>\n",
       "    <tr>\n",
       "      <th>mean</th>\n",
       "      <td>26.569712</td>\n",
       "      <td>2.163462</td>\n",
       "      <td>842.228365</td>\n",
       "      <td>5.549279</td>\n",
       "      <td>0.034351</td>\n",
       "      <td>58.747596</td>\n",
       "      <td>1.990385</td>\n",
       "      <td>0.033654</td>\n",
       "      <td>3.115385</td>\n",
       "      <td>9.312500</td>\n",
       "      <td>0.362981</td>\n",
       "      <td>0.141827</td>\n",
       "      <td>0.083536</td>\n",
       "      <td>0.093429</td>\n",
       "      <td>49.165865</td>\n",
       "      <td>12.135817</td>\n",
       "      <td>6.103616</td>\n",
       "      <td>11.903966</td>\n",
       "      <td>0.596154</td>\n",
       "    </tr>\n",
       "    <tr>\n",
       "      <th>std</th>\n",
       "      <td>3.900565</td>\n",
       "      <td>1.009455</td>\n",
       "      <td>979.895681</td>\n",
       "      <td>1.439745</td>\n",
       "      <td>0.057905</td>\n",
       "      <td>55.320327</td>\n",
       "      <td>0.966875</td>\n",
       "      <td>0.180554</td>\n",
       "      <td>1.263445</td>\n",
       "      <td>5.494658</td>\n",
       "      <td>0.481438</td>\n",
       "      <td>0.349293</td>\n",
       "      <td>0.088623</td>\n",
       "      <td>0.082126</td>\n",
       "      <td>47.151015</td>\n",
       "      <td>12.955697</td>\n",
       "      <td>6.492683</td>\n",
       "      <td>13.137510</td>\n",
       "      <td>0.491258</td>\n",
       "    </tr>\n",
       "    <tr>\n",
       "      <th>min</th>\n",
       "      <td>17.000000</td>\n",
       "      <td>1.000000</td>\n",
       "      <td>9.000000</td>\n",
       "      <td>4.000000</td>\n",
       "      <td>0.000000</td>\n",
       "      <td>0.000000</td>\n",
       "      <td>1.000000</td>\n",
       "      <td>0.000000</td>\n",
       "      <td>1.000000</td>\n",
       "      <td>1.000000</td>\n",
       "      <td>0.000000</td>\n",
       "      <td>0.000000</td>\n",
       "      <td>0.000000</td>\n",
       "      <td>0.000000</td>\n",
       "      <td>0.000000</td>\n",
       "      <td>0.050000</td>\n",
       "      <td>0.005000</td>\n",
       "      <td>0.005000</td>\n",
       "      <td>0.000000</td>\n",
       "    </tr>\n",
       "    <tr>\n",
       "      <th>25%</th>\n",
       "      <td>24.000000</td>\n",
       "      <td>1.000000</td>\n",
       "      <td>246.000000</td>\n",
       "      <td>4.500000</td>\n",
       "      <td>0.002750</td>\n",
       "      <td>4.000000</td>\n",
       "      <td>1.000000</td>\n",
       "      <td>0.000000</td>\n",
       "      <td>2.000000</td>\n",
       "      <td>5.000000</td>\n",
       "      <td>0.000000</td>\n",
       "      <td>0.000000</td>\n",
       "      <td>0.021739</td>\n",
       "      <td>0.009524</td>\n",
       "      <td>1.000000</td>\n",
       "      <td>3.000000</td>\n",
       "      <td>1.366250</td>\n",
       "      <td>2.575000</td>\n",
       "      <td>0.000000</td>\n",
       "    </tr>\n",
       "    <tr>\n",
       "      <th>50%</th>\n",
       "      <td>27.000000</td>\n",
       "      <td>2.000000</td>\n",
       "      <td>522.000000</td>\n",
       "      <td>5.000000</td>\n",
       "      <td>0.011000</td>\n",
       "      <td>51.000000</td>\n",
       "      <td>2.000000</td>\n",
       "      <td>0.000000</td>\n",
       "      <td>3.000000</td>\n",
       "      <td>9.000000</td>\n",
       "      <td>0.000000</td>\n",
       "      <td>0.000000</td>\n",
       "      <td>0.073684</td>\n",
       "      <td>0.100000</td>\n",
       "      <td>35.000000</td>\n",
       "      <td>7.500000</td>\n",
       "      <td>4.059625</td>\n",
       "      <td>7.350000</td>\n",
       "      <td>1.000000</td>\n",
       "    </tr>\n",
       "    <tr>\n",
       "      <th>75%</th>\n",
       "      <td>29.000000</td>\n",
       "      <td>3.000000</td>\n",
       "      <td>1066.750000</td>\n",
       "      <td>6.000000</td>\n",
       "      <td>0.035250</td>\n",
       "      <td>95.250000</td>\n",
       "      <td>2.000000</td>\n",
       "      <td>0.000000</td>\n",
       "      <td>4.000000</td>\n",
       "      <td>13.000000</td>\n",
       "      <td>1.000000</td>\n",
       "      <td>0.000000</td>\n",
       "      <td>0.088000</td>\n",
       "      <td>0.128049</td>\n",
       "      <td>86.000000</td>\n",
       "      <td>17.000000</td>\n",
       "      <td>8.566438</td>\n",
       "      <td>15.300000</td>\n",
       "      <td>1.000000</td>\n",
       "    </tr>\n",
       "    <tr>\n",
       "      <th>max</th>\n",
       "      <td>38.000000</td>\n",
       "      <td>4.000000</td>\n",
       "      <td>7664.000000</td>\n",
       "      <td>12.500000</td>\n",
       "      <td>0.450000</td>\n",
       "      <td>264.000000</td>\n",
       "      <td>4.000000</td>\n",
       "      <td>1.000000</td>\n",
       "      <td>6.000000</td>\n",
       "      <td>20.000000</td>\n",
       "      <td>1.000000</td>\n",
       "      <td>1.000000</td>\n",
       "      <td>0.426230</td>\n",
       "      <td>0.325000</td>\n",
       "      <td>280.000000</td>\n",
       "      <td>75.000000</td>\n",
       "      <td>37.600000</td>\n",
       "      <td>75.000000</td>\n",
       "      <td>1.000000</td>\n",
       "    </tr>\n",
       "  </tbody>\n",
       "</table>\n",
       "</div>"
      ],
      "text/plain": [
       "              age  position_cat   page_views   fpl_value     fpl_sel  \\\n",
       "count  416.000000    416.000000   416.000000  416.000000  416.000000   \n",
       "mean    26.569712      2.163462   842.228365    5.549279    0.034351   \n",
       "std      3.900565      1.009455   979.895681    1.439745    0.057905   \n",
       "min     17.000000      1.000000     9.000000    4.000000    0.000000   \n",
       "25%     24.000000      1.000000   246.000000    4.500000    0.002750   \n",
       "50%     27.000000      2.000000   522.000000    5.000000    0.011000   \n",
       "75%     29.000000      3.000000  1066.750000    6.000000    0.035250   \n",
       "max     38.000000      4.000000  7664.000000   12.500000    0.450000   \n",
       "\n",
       "       fpl_points      region  new_foreign     age_cat     club_id  \\\n",
       "count  416.000000  416.000000   416.000000  416.000000  416.000000   \n",
       "mean    58.747596    1.990385     0.033654    3.115385    9.312500   \n",
       "std     55.320327    0.966875     0.180554    1.263445    5.494658   \n",
       "min      0.000000    1.000000     0.000000    1.000000    1.000000   \n",
       "25%      4.000000    1.000000     0.000000    2.000000    5.000000   \n",
       "50%     51.000000    2.000000     0.000000    3.000000    9.000000   \n",
       "75%     95.250000    2.000000     0.000000    4.000000   13.000000   \n",
       "max    264.000000    4.000000     1.000000    6.000000   20.000000   \n",
       "\n",
       "         big_club  new_signing       goals     assists        wins  \\\n",
       "count  416.000000   416.000000  416.000000  416.000000  416.000000   \n",
       "mean     0.362981     0.141827    0.083536    0.093429   49.165865   \n",
       "std      0.481438     0.349293    0.088623    0.082126   47.151015   \n",
       "min      0.000000     0.000000    0.000000    0.000000    0.000000   \n",
       "25%      0.000000     0.000000    0.021739    0.009524    1.000000   \n",
       "50%      0.000000     0.000000    0.073684    0.100000   35.000000   \n",
       "75%      1.000000     0.000000    0.088000    0.128049   86.000000   \n",
       "max      1.000000     1.000000    0.426230    0.325000  280.000000   \n",
       "\n",
       "            price    mean_fee     max_fee       up_do  \n",
       "count  416.000000  416.000000  416.000000  416.000000  \n",
       "mean    12.135817    6.103616   11.903966    0.596154  \n",
       "std     12.955697    6.492683   13.137510    0.491258  \n",
       "min      0.050000    0.005000    0.005000    0.000000  \n",
       "25%      3.000000    1.366250    2.575000    0.000000  \n",
       "50%      7.500000    4.059625    7.350000    1.000000  \n",
       "75%     17.000000    8.566438   15.300000    1.000000  \n",
       "max     75.000000   37.600000   75.000000    1.000000  "
      ]
     },
     "execution_count": 69,
     "metadata": {},
     "output_type": "execute_result"
    }
   ],
   "source": [
    "players.describe()"
   ]
  },
  {
   "cell_type": "code",
   "execution_count": 70,
   "metadata": {},
   "outputs": [
    {
     "data": {
      "text/plain": [
       "name             object\n",
       "club             object\n",
       "age               int64\n",
       "position         object\n",
       "position_cat      int64\n",
       "page_views        int64\n",
       "fpl_value       float64\n",
       "fpl_sel         float64\n",
       "fpl_points        int64\n",
       "region          float64\n",
       "nationality      object\n",
       "new_foreign       int64\n",
       "age_cat           int64\n",
       "club_id           int64\n",
       "big_club          int64\n",
       "new_signing       int64\n",
       "goals           float64\n",
       "assists         float64\n",
       "wins            float64\n",
       "price           float64\n",
       "mean_fee        float64\n",
       "max_fee         float64\n",
       "up_do           float64\n",
       "dtype: object"
      ]
     },
     "execution_count": 70,
     "metadata": {},
     "output_type": "execute_result"
    }
   ],
   "source": [
    "players.dtypes"
   ]
  },
  {
   "cell_type": "code",
   "execution_count": 71,
   "metadata": {},
   "outputs": [
    {
     "data": {
      "image/png": "[encoded data removed]",
      "text/plain": [
       "<Figure size 432x288 with 1 Axes>"
      ]
     },
     "metadata": {
      "needs_background": "light"
     },
     "output_type": "display_data"
    }
   ],
   "source": [
    "# Distribution of player's market-values\n",
    "n, bins, patches = plt.hist(x=players.price, bins='auto', color='#0504aa',\n",
    "                            alpha=0.7, rwidth=0.85)\n",
    "plt.grid(axis='y', alpha=0.75)\n",
    "plt.xlabel('Value')\n",
    "plt.ylabel('Frequency')\n",
    "plt.title('Market Value Histogram')\n",
    "maxfreq = n.max()"
   ]
  },
  {
   "cell_type": "code",
   "execution_count": 72,
   "metadata": {},
   "outputs": [
    {
     "data": {
      "text/plain": [
       "<matplotlib.axes._subplots.AxesSubplot at 0x1a1ef80940>"
      ]
     },
     "execution_count": 72,
     "metadata": {},
     "output_type": "execute_result"
    },
    {
     "data": {
      "image/png": "[encoded data removed]",
      "text/plain": [
       "<Figure size 1080x648 with 2 Axes>"
      ]
     },
     "metadata": {
      "needs_background": "light"
     },
     "output_type": "display_data"
    }
   ],
   "source": [
    "# Checking for correlation between features\n",
    "mask = np.zeros_like(players.corr(), dtype=np.bool)\n",
    "mask[np.triu_indices_from(mask)] = True\n",
    "plt.subplots(figsize=(15,9))\n",
    "sns.heatmap(players.corr(), mask = mask, annot=True)"
   ]
  },
  {
   "cell_type": "code",
   "execution_count": 73,
   "metadata": {},
   "outputs": [],
   "source": [
    "#Multiple regression\n",
    "X = players.drop(['name', 'club', 'age', 'position', 'nationality', 'price'], axis = 1).values\n",
    "y = players.price.values"
   ]
  },
  {
   "cell_type": "code",
   "execution_count": 74,
   "metadata": {},
   "outputs": [],
   "source": [
    "X_train, X_test, y_train, y_test = train_test_split(X, y, test_size = 0.2, random_state = 0)"
   ]
  },
  {
   "cell_type": "code",
   "execution_count": 75,
   "metadata": {},
   "outputs": [],
   "source": [
    "sc_X = StandardScaler()\n",
    "X_train = sc_X.fit_transform(X_train)\n",
    "X_test = sc_X.transform(X_test)"
   ]
  },
  {
   "cell_type": "code",
   "execution_count": 76,
   "metadata": {},
   "outputs": [
    {
     "data": {
      "text/plain": [
       "LinearRegression(copy_X=True, fit_intercept=True, n_jobs=None,\n",
       "         normalize=False)"
      ]
     },
     "execution_count": 76,
     "metadata": {},
     "output_type": "execute_result"
    }
   ],
   "source": [
    "from sklearn.linear_model import LinearRegression\n",
    "regressor = LinearRegression()\n",
    "regressor.fit(X_train, y_train)"
   ]
  },
  {
   "cell_type": "code",
   "execution_count": 77,
   "metadata": {},
   "outputs": [],
   "source": [
    "y_pred = regressor.predict(X_test)\n",
    "diff = []\n",
    "for M, A in list(zip(y_pred, y_test)):\n",
    "    diff.append(abs(M-A))\n",
    "diff_lr = np.mean(diff)  "
   ]
  },
  {
   "cell_type": "code",
   "execution_count": 78,
   "metadata": {},
   "outputs": [
    {
     "data": {
      "text/html": [
       "<div>\n",
       "<style scoped>\n",
       "    .dataframe tbody tr th:only-of-type {\n",
       "        vertical-align: middle;\n",
       "    }\n",
       "\n",
       "    .dataframe tbody tr th {\n",
       "        vertical-align: top;\n",
       "    }\n",
       "\n",
       "    .dataframe thead th {\n",
       "        text-align: right;\n",
       "    }\n",
       "</style>\n",
       "<table border=\"1\" class=\"dataframe\">\n",
       "  <thead>\n",
       "    <tr style=\"text-align: right;\">\n",
       "      <th></th>\n",
       "      <th>Model</th>\n",
       "      <th>Actual</th>\n",
       "    </tr>\n",
       "  </thead>\n",
       "  <tbody>\n",
       "    <tr>\n",
       "      <th>0</th>\n",
       "      <td>1.507649</td>\n",
       "      <td>2.0</td>\n",
       "    </tr>\n",
       "    <tr>\n",
       "      <th>1</th>\n",
       "      <td>23.660156</td>\n",
       "      <td>25.0</td>\n",
       "    </tr>\n",
       "    <tr>\n",
       "      <th>2</th>\n",
       "      <td>7.697544</td>\n",
       "      <td>17.0</td>\n",
       "    </tr>\n",
       "    <tr>\n",
       "      <th>3</th>\n",
       "      <td>41.506061</td>\n",
       "      <td>40.0</td>\n",
       "    </tr>\n",
       "    <tr>\n",
       "      <th>4</th>\n",
       "      <td>16.087469</td>\n",
       "      <td>8.0</td>\n",
       "    </tr>\n",
       "  </tbody>\n",
       "</table>\n",
       "</div>"
      ],
      "text/plain": [
       "       Model  Actual\n",
       "0   1.507649     2.0\n",
       "1  23.660156    25.0\n",
       "2   7.697544    17.0\n",
       "3  41.506061    40.0\n",
       "4  16.087469     8.0"
      ]
     },
     "execution_count": 78,
     "metadata": {},
     "output_type": "execute_result"
    }
   ],
   "source": [
    "X1 = sc_X.transform(X)\n",
    "y_pred1 = regressor.predict(X1)\n",
    "pred = []\n",
    "for M, A in list(zip(y_pred1, y)):\n",
    "    pred.append([M, A])\n",
    "mlr_c = pd.DataFrame(pred, columns = ['Model', 'Actual'])\n",
    "mlr_c.head()"
   ]
  },
  {
   "cell_type": "code",
   "execution_count": 79,
   "metadata": {},
   "outputs": [],
   "source": [
    "accuracies = cross_val_score(estimator = regressor, X = X_train, y = y_train, cv = 10)\n",
    "accuracy_lr = accuracies.mean()\n",
    "std_lr = accuracies.std()\n",
    "score_lr = regressor.score(X_train, y_train)"
   ]
  },
  {
   "cell_type": "code",
   "execution_count": 80,
   "metadata": {},
   "outputs": [],
   "source": [
    "# Random forest regression\n",
    "X = players.drop(['name', 'club', 'age', 'position', 'nationality', 'price', 'wins'], axis = 1).values\n",
    "y = players.price.values\n",
    "X_train, X_test, y_train, y_test = train_test_split(X, y, test_size = 0.2, random_state = 0)"
   ]
  },
  {
   "cell_type": "code",
   "execution_count": 81,
   "metadata": {},
   "outputs": [],
   "source": [
    "sc_X = StandardScaler()\n",
    "X_train = sc_X.fit_transform(X_train)\n",
    "X_test = sc_X.transform(X_test)"
   ]
  },
  {
   "cell_type": "code",
   "execution_count": 82,
   "metadata": {},
   "outputs": [
    {
     "data": {
      "text/plain": [
       "RandomForestRegressor(bootstrap=True, criterion='mse', max_depth=None,\n",
       "           max_features='auto', max_leaf_nodes=None,\n",
       "           min_impurity_decrease=0.0, min_impurity_split=None,\n",
       "           min_samples_leaf=1, min_samples_split=2,\n",
       "           min_weight_fraction_leaf=0.0, n_estimators=300, n_jobs=None,\n",
       "           oob_score=False, random_state=0, verbose=0, warm_start=False)"
      ]
     },
     "execution_count": 82,
     "metadata": {},
     "output_type": "execute_result"
    }
   ],
   "source": [
    "regressor = RandomForestRegressor(n_estimators = 300, random_state = 0)\n",
    "regressor.fit(X_train, y_train)"
   ]
  },
  {
   "cell_type": "code",
   "execution_count": 83,
   "metadata": {},
   "outputs": [],
   "source": [
    "y_pred = regressor.predict(X_test)\n",
    "diff = []\n",
    "for M, A in list(zip(y_pred, y_test)):\n",
    "    diff.append(abs(M-A))\n",
    "diff_rfr = np.mean(diff)  "
   ]
  },
  {
   "cell_type": "code",
   "execution_count": 84,
   "metadata": {},
   "outputs": [],
   "source": [
    "accuracies = cross_val_score(estimator = regressor, X = X_train, y = y_train, cv = 10)\n",
    "accuracy_rfr = accuracies.mean()\n",
    "std_rfr = accuracies.std()\n",
    "score_rfr = regressor.score(X_train, y_train)"
   ]
  },
  {
   "cell_type": "code",
   "execution_count": 85,
   "metadata": {},
   "outputs": [],
   "source": [
    "X1 = sc_X.transform(X)\n",
    "y_pred1 = regressor.predict(X1)"
   ]
  },
  {
   "cell_type": "code",
   "execution_count": 86,
   "metadata": {},
   "outputs": [
    {
     "data": {
      "text/html": [
       "<div>\n",
       "<style scoped>\n",
       "    .dataframe tbody tr th:only-of-type {\n",
       "        vertical-align: middle;\n",
       "    }\n",
       "\n",
       "    .dataframe tbody tr th {\n",
       "        vertical-align: top;\n",
       "    }\n",
       "\n",
       "    .dataframe thead th {\n",
       "        text-align: right;\n",
       "    }\n",
       "</style>\n",
       "<table border=\"1\" class=\"dataframe\">\n",
       "  <thead>\n",
       "    <tr style=\"text-align: right;\">\n",
       "      <th></th>\n",
       "      <th>Model</th>\n",
       "      <th>Actual</th>\n",
       "    </tr>\n",
       "  </thead>\n",
       "  <tbody>\n",
       "    <tr>\n",
       "      <th>0</th>\n",
       "      <td>2.094167</td>\n",
       "      <td>2.0</td>\n",
       "    </tr>\n",
       "    <tr>\n",
       "      <th>1</th>\n",
       "      <td>18.666667</td>\n",
       "      <td>25.0</td>\n",
       "    </tr>\n",
       "    <tr>\n",
       "      <th>2</th>\n",
       "      <td>13.271667</td>\n",
       "      <td>17.0</td>\n",
       "    </tr>\n",
       "    <tr>\n",
       "      <th>3</th>\n",
       "      <td>42.153333</td>\n",
       "      <td>40.0</td>\n",
       "    </tr>\n",
       "    <tr>\n",
       "      <th>4</th>\n",
       "      <td>14.516667</td>\n",
       "      <td>8.0</td>\n",
       "    </tr>\n",
       "  </tbody>\n",
       "</table>\n",
       "</div>"
      ],
      "text/plain": [
       "       Model  Actual\n",
       "0   2.094167     2.0\n",
       "1  18.666667    25.0\n",
       "2  13.271667    17.0\n",
       "3  42.153333    40.0\n",
       "4  14.516667     8.0"
      ]
     },
     "execution_count": 86,
     "metadata": {},
     "output_type": "execute_result"
    }
   ],
   "source": [
    "pred = []\n",
    "for M, A in list(zip(y_pred1, y)):\n",
    "    pred.append([M, A])\n",
    "rfr_c1 = pd.DataFrame(pred, columns = ['Model', 'Actual'])\n",
    "rfr_c1.head()"
   ]
  },
  {
   "cell_type": "code",
   "execution_count": 87,
   "metadata": {},
   "outputs": [
    {
     "name": "stdout",
     "output_type": "stream",
     "text": [
      "r2_score:  0.9442109722135561\n"
     ]
    }
   ],
   "source": [
    "from sklearn.metrics import r2_score\n",
    "print('r2_score: ', r2_score(rfr_c1.Actual, rfr_c1.Model))"
   ]
  },
  {
   "cell_type": "code",
   "execution_count": 88,
   "metadata": {},
   "outputs": [
    {
     "name": "stdout",
     "output_type": "stream",
     "text": [
      "mean_squared_error:  9.34168311698718\n"
     ]
    }
   ],
   "source": [
    "from sklearn.metrics import mean_squared_error\n",
    "\n",
    "print('mean_squared_error: ', mean_squared_error(rfr_c1.Actual, rfr_c1.Model))"
   ]
  },
  {
   "cell_type": "code",
   "execution_count": 89,
   "metadata": {},
   "outputs": [
    {
     "data": {
      "text/html": [
       "<table class=\"simpletable\">\n",
       "<caption>OLS Regression Results</caption>\n",
       "<tr>\n",
       "  <th>Dep. Variable:</th>            <td>y</td>        <th>  R-squared:         </th> <td>   0.813</td> \n",
       "</tr>\n",
       "<tr>\n",
       "  <th>Model:</th>                   <td>OLS</td>       <th>  Adj. R-squared:    </th> <td>   0.806</td> \n",
       "</tr>\n",
       "<tr>\n",
       "  <th>Method:</th>             <td>Least Squares</td>  <th>  F-statistic:       </th> <td>   124.4</td> \n",
       "</tr>\n",
       "<tr>\n",
       "  <th>Date:</th>             <td>Fri, 22 Mar 2019</td> <th>  Prob (F-statistic):</th> <td>3.38e-136</td>\n",
       "</tr>\n",
       "<tr>\n",
       "  <th>Time:</th>                 <td>10:15:39</td>     <th>  Log-Likelihood:    </th> <td> -1306.8</td> \n",
       "</tr>\n",
       "<tr>\n",
       "  <th>No. Observations:</th>      <td>   416</td>      <th>  AIC:               </th> <td>   2644.</td> \n",
       "</tr>\n",
       "<tr>\n",
       "  <th>Df Residuals:</th>          <td>   401</td>      <th>  BIC:               </th> <td>   2704.</td> \n",
       "</tr>\n",
       "<tr>\n",
       "  <th>Df Model:</th>              <td>    14</td>      <th>                     </th>     <td> </td>    \n",
       "</tr>\n",
       "<tr>\n",
       "  <th>Covariance Type:</th>      <td>nonrobust</td>    <th>                     </th>     <td> </td>    \n",
       "</tr>\n",
       "</table>\n",
       "<table class=\"simpletable\">\n",
       "<tr>\n",
       "    <td></td>       <th>coef</th>     <th>std err</th>      <th>t</th>      <th>P>|t|</th>  <th>[0.025</th>    <th>0.975]</th>  \n",
       "</tr>\n",
       "<tr>\n",
       "  <th>const</th> <td>    1.1467</td> <td>    1.427</td> <td>    0.804</td> <td> 0.422</td> <td>   -1.658</td> <td>    3.951</td>\n",
       "</tr>\n",
       "<tr>\n",
       "  <th>x1</th>    <td>   -0.9479</td> <td>    0.334</td> <td>   -2.839</td> <td> 0.005</td> <td>   -1.604</td> <td>   -0.292</td>\n",
       "</tr>\n",
       "<tr>\n",
       "  <th>x2</th>    <td>   28.5676</td> <td>    6.193</td> <td>    4.613</td> <td> 0.000</td> <td>   16.393</td> <td>   40.742</td>\n",
       "</tr>\n",
       "<tr>\n",
       "  <th>x3</th>    <td>    0.0732</td> <td>    0.007</td> <td>   10.477</td> <td> 0.000</td> <td>    0.059</td> <td>    0.087</td>\n",
       "</tr>\n",
       "<tr>\n",
       "  <th>x4</th>    <td>    0.6426</td> <td>    0.306</td> <td>    2.100</td> <td> 0.036</td> <td>    0.041</td> <td>    1.244</td>\n",
       "</tr>\n",
       "<tr>\n",
       "  <th>x5</th>    <td>    5.4350</td> <td>    1.681</td> <td>    3.233</td> <td> 0.001</td> <td>    2.130</td> <td>    8.740</td>\n",
       "</tr>\n",
       "<tr>\n",
       "  <th>x6</th>    <td>   -0.6127</td> <td>    0.241</td> <td>   -2.542</td> <td> 0.011</td> <td>   -1.087</td> <td>   -0.139</td>\n",
       "</tr>\n",
       "<tr>\n",
       "  <th>x7</th>    <td>   -0.0372</td> <td>    0.054</td> <td>   -0.694</td> <td> 0.488</td> <td>   -0.143</td> <td>    0.068</td>\n",
       "</tr>\n",
       "<tr>\n",
       "  <th>x8</th>    <td>    5.0162</td> <td>    0.704</td> <td>    7.123</td> <td> 0.000</td> <td>    3.632</td> <td>    6.401</td>\n",
       "</tr>\n",
       "<tr>\n",
       "  <th>x9</th>    <td>    1.1684</td> <td>    0.852</td> <td>    1.372</td> <td> 0.171</td> <td>   -0.506</td> <td>    2.843</td>\n",
       "</tr>\n",
       "<tr>\n",
       "  <th>x10</th>   <td>    2.3076</td> <td>    4.583</td> <td>    0.504</td> <td> 0.615</td> <td>   -6.702</td> <td>   11.317</td>\n",
       "</tr>\n",
       "<tr>\n",
       "  <th>x11</th>   <td>    1.7177</td> <td>    4.522</td> <td>    0.380</td> <td> 0.704</td> <td>   -7.171</td> <td>   10.607</td>\n",
       "</tr>\n",
       "<tr>\n",
       "  <th>x12</th>   <td>    0.2069</td> <td>    0.098</td> <td>    2.103</td> <td> 0.036</td> <td>    0.013</td> <td>    0.400</td>\n",
       "</tr>\n",
       "<tr>\n",
       "  <th>x13</th>   <td>    0.3682</td> <td>    0.050</td> <td>    7.324</td> <td> 0.000</td> <td>    0.269</td> <td>    0.467</td>\n",
       "</tr>\n",
       "<tr>\n",
       "  <th>x14</th>   <td>    0.9528</td> <td>    0.617</td> <td>    1.544</td> <td> 0.123</td> <td>   -0.260</td> <td>    2.166</td>\n",
       "</tr>\n",
       "</table>\n",
       "<table class=\"simpletable\">\n",
       "<tr>\n",
       "  <th>Omnibus:</th>       <td>133.460</td> <th>  Durbin-Watson:     </th> <td>   1.884</td> \n",
       "</tr>\n",
       "<tr>\n",
       "  <th>Prob(Omnibus):</th> <td> 0.000</td>  <th>  Jarque-Bera (JB):  </th> <td> 821.008</td> \n",
       "</tr>\n",
       "<tr>\n",
       "  <th>Skew:</th>          <td> 1.221</td>  <th>  Prob(JB):          </th> <td>5.25e-179</td>\n",
       "</tr>\n",
       "<tr>\n",
       "  <th>Kurtosis:</th>      <td> 9.434</td>  <th>  Cond. No.          </th> <td>1.85e+03</td> \n",
       "</tr>\n",
       "</table><br/><br/>Warnings:<br/>[1] Standard Errors assume that the covariance matrix of the errors is correctly specified.<br/>[2] The condition number is large, 1.85e+03. This might indicate that there are<br/>strong multicollinearity or other numerical problems."
      ],
      "text/plain": [
       "<class 'statsmodels.iolib.summary.Summary'>\n",
       "\"\"\"\n",
       "                            OLS Regression Results                            \n",
       "==============================================================================\n",
       "Dep. Variable:                      y   R-squared:                       0.813\n",
       "Model:                            OLS   Adj. R-squared:                  0.806\n",
       "Method:                 Least Squares   F-statistic:                     124.4\n",
       "Date:                Fri, 22 Mar 2019   Prob (F-statistic):          3.38e-136\n",
       "Time:                        10:15:39   Log-Likelihood:                -1306.8\n",
       "No. Observations:                 416   AIC:                             2644.\n",
       "Df Residuals:                     401   BIC:                             2704.\n",
       "Df Model:                          14                                         \n",
       "Covariance Type:            nonrobust                                         \n",
       "==============================================================================\n",
       "                 coef    std err          t      P>|t|      [0.025      0.975]\n",
       "------------------------------------------------------------------------------\n",
       "const          1.1467      1.427      0.804      0.422      -1.658       3.951\n",
       "x1            -0.9479      0.334     -2.839      0.005      -1.604      -0.292\n",
       "x2            28.5676      6.193      4.613      0.000      16.393      40.742\n",
       "x3             0.0732      0.007     10.477      0.000       0.059       0.087\n",
       "x4             0.6426      0.306      2.100      0.036       0.041       1.244\n",
       "x5             5.4350      1.681      3.233      0.001       2.130       8.740\n",
       "x6            -0.6127      0.241     -2.542      0.011      -1.087      -0.139\n",
       "x7            -0.0372      0.054     -0.694      0.488      -0.143       0.068\n",
       "x8             5.0162      0.704      7.123      0.000       3.632       6.401\n",
       "x9             1.1684      0.852      1.372      0.171      -0.506       2.843\n",
       "x10            2.3076      4.583      0.504      0.615      -6.702      11.317\n",
       "x11            1.7177      4.522      0.380      0.704      -7.171      10.607\n",
       "x12            0.2069      0.098      2.103      0.036       0.013       0.400\n",
       "x13            0.3682      0.050      7.324      0.000       0.269       0.467\n",
       "x14            0.9528      0.617      1.544      0.123      -0.260       2.166\n",
       "==============================================================================\n",
       "Omnibus:                      133.460   Durbin-Watson:                   1.884\n",
       "Prob(Omnibus):                  0.000   Jarque-Bera (JB):              821.008\n",
       "Skew:                           1.221   Prob(JB):                    5.25e-179\n",
       "Kurtosis:                       9.434   Cond. No.                     1.85e+03\n",
       "==============================================================================\n",
       "\n",
       "Warnings:\n",
       "[1] Standard Errors assume that the covariance matrix of the errors is correctly specified.\n",
       "[2] The condition number is large, 1.85e+03. This might indicate that there are\n",
       "strong multicollinearity or other numerical problems.\n",
       "\"\"\""
      ]
     },
     "execution_count": 89,
     "metadata": {},
     "output_type": "execute_result"
    }
   ],
   "source": [
    "# OLS regression\n",
    "# Using backwards elimination to come up with the best model. Techinique employed of least squares.\n",
    "X = np.append(arr = np.ones((416, 1)).astype(int), values = X, axis = 1)\n",
    "X_opt = X[:, [0, 1, 4, 5,6,7,8,9,10,11,12,13,14,15,16]]\n",
    "regressor_OLS = sm.OLS(endog = y, exog = X_opt).fit()\n",
    "regressor_OLS.summary()"
   ]
  },
  {
   "cell_type": "code",
   "execution_count": 90,
   "metadata": {},
   "outputs": [],
   "source": [
    "# rbf model. Linear regression using rbf kernel\n",
    "X = players.drop(['name', 'club', 'age', 'position', 'nationality', 'price', 'wins'], axis = 1).values\n",
    "y = players.price.values\n",
    "X_train, X_test, y_train, y_test = train_test_split(X, y, test_size = 0.2, random_state = 0)"
   ]
  },
  {
   "cell_type": "code",
   "execution_count": 91,
   "metadata": {},
   "outputs": [],
   "source": [
    "sc_X = StandardScaler()\n",
    "X_train = sc_X.fit_transform(X_train)\n",
    "X_test = sc_X.transform(X_test)"
   ]
  },
  {
   "cell_type": "code",
   "execution_count": 92,
   "metadata": {},
   "outputs": [
    {
     "data": {
      "text/plain": [
       "SVR(C=1.0, cache_size=200, coef0=0.0, degree=3, epsilon=0.1,\n",
       "  gamma='auto_deprecated', kernel='rbf', max_iter=-1, shrinking=True,\n",
       "  tol=0.001, verbose=False)"
      ]
     },
     "execution_count": 92,
     "metadata": {},
     "output_type": "execute_result"
    }
   ],
   "source": [
    "regressor = svm.SVR(kernel = 'rbf')\n",
    "regressor.fit(X_train, y_train)"
   ]
  },
  {
   "cell_type": "code",
   "execution_count": 93,
   "metadata": {},
   "outputs": [],
   "source": [
    "y_pred = regressor.predict(X_test)\n",
    "diff = []\n",
    "for M, A in list(zip(y_pred, y_test)):\n",
    "    diff.append(abs(M-A))\n",
    "diff_rbf = np.mean(diff)  "
   ]
  },
  {
   "cell_type": "code",
   "execution_count": 94,
   "metadata": {},
   "outputs": [
    {
     "data": {
      "text/html": [
       "<div>\n",
       "<style scoped>\n",
       "    .dataframe tbody tr th:only-of-type {\n",
       "        vertical-align: middle;\n",
       "    }\n",
       "\n",
       "    .dataframe tbody tr th {\n",
       "        vertical-align: top;\n",
       "    }\n",
       "\n",
       "    .dataframe thead th {\n",
       "        text-align: right;\n",
       "    }\n",
       "</style>\n",
       "<table border=\"1\" class=\"dataframe\">\n",
       "  <thead>\n",
       "    <tr style=\"text-align: right;\">\n",
       "      <th></th>\n",
       "      <th>Model</th>\n",
       "      <th>Actual</th>\n",
       "    </tr>\n",
       "  </thead>\n",
       "  <tbody>\n",
       "    <tr>\n",
       "      <th>0</th>\n",
       "      <td>1.812029</td>\n",
       "      <td>2.0</td>\n",
       "    </tr>\n",
       "    <tr>\n",
       "      <th>1</th>\n",
       "      <td>17.290117</td>\n",
       "      <td>25.0</td>\n",
       "    </tr>\n",
       "    <tr>\n",
       "      <th>2</th>\n",
       "      <td>7.369341</td>\n",
       "      <td>17.0</td>\n",
       "    </tr>\n",
       "    <tr>\n",
       "      <th>3</th>\n",
       "      <td>19.973819</td>\n",
       "      <td>40.0</td>\n",
       "    </tr>\n",
       "    <tr>\n",
       "      <th>4</th>\n",
       "      <td>12.246497</td>\n",
       "      <td>8.0</td>\n",
       "    </tr>\n",
       "  </tbody>\n",
       "</table>\n",
       "</div>"
      ],
      "text/plain": [
       "       Model  Actual\n",
       "0   1.812029     2.0\n",
       "1  17.290117    25.0\n",
       "2   7.369341    17.0\n",
       "3  19.973819    40.0\n",
       "4  12.246497     8.0"
      ]
     },
     "execution_count": 94,
     "metadata": {},
     "output_type": "execute_result"
    }
   ],
   "source": [
    "X1 = sc_X.transform(X)\n",
    "y_pred1 = regressor.predict(X1)\n",
    "pred = []\n",
    "for M, A in list(zip(y_pred1, y)):\n",
    "    pred.append([M, A])\n",
    "rbf_c = pd.DataFrame(pred, columns = ['Model', 'Actual'])\n",
    "rbf_c.head()"
   ]
  },
  {
   "cell_type": "code",
   "execution_count": 95,
   "metadata": {},
   "outputs": [
    {
     "name": "stderr",
     "output_type": "stream",
     "text": [
      "/anaconda3/lib/python3.7/site-packages/sklearn/svm/base.py:196: FutureWarning: The default value of gamma will change from 'auto' to 'scale' in version 0.22 to account better for unscaled features. Set gamma explicitly to 'auto' or 'scale' to avoid this warning.\n",
      "  \"avoid this warning.\", FutureWarning)\n",
      "/anaconda3/lib/python3.7/site-packages/sklearn/svm/base.py:196: FutureWarning: The default value of gamma will change from 'auto' to 'scale' in version 0.22 to account better for unscaled features. Set gamma explicitly to 'auto' or 'scale' to avoid this warning.\n",
      "  \"avoid this warning.\", FutureWarning)\n",
      "/anaconda3/lib/python3.7/site-packages/sklearn/svm/base.py:196: FutureWarning: The default value of gamma will change from 'auto' to 'scale' in version 0.22 to account better for unscaled features. Set gamma explicitly to 'auto' or 'scale' to avoid this warning.\n",
      "  \"avoid this warning.\", FutureWarning)\n",
      "/anaconda3/lib/python3.7/site-packages/sklearn/svm/base.py:196: FutureWarning: The default value of gamma will change from 'auto' to 'scale' in version 0.22 to account better for unscaled features. Set gamma explicitly to 'auto' or 'scale' to avoid this warning.\n",
      "  \"avoid this warning.\", FutureWarning)\n",
      "/anaconda3/lib/python3.7/site-packages/sklearn/svm/base.py:196: FutureWarning: The default value of gamma will change from 'auto' to 'scale' in version 0.22 to account better for unscaled features. Set gamma explicitly to 'auto' or 'scale' to avoid this warning.\n",
      "  \"avoid this warning.\", FutureWarning)\n",
      "/anaconda3/lib/python3.7/site-packages/sklearn/svm/base.py:196: FutureWarning: The default value of gamma will change from 'auto' to 'scale' in version 0.22 to account better for unscaled features. Set gamma explicitly to 'auto' or 'scale' to avoid this warning.\n",
      "  \"avoid this warning.\", FutureWarning)\n",
      "/anaconda3/lib/python3.7/site-packages/sklearn/svm/base.py:196: FutureWarning: The default value of gamma will change from 'auto' to 'scale' in version 0.22 to account better for unscaled features. Set gamma explicitly to 'auto' or 'scale' to avoid this warning.\n",
      "  \"avoid this warning.\", FutureWarning)\n",
      "/anaconda3/lib/python3.7/site-packages/sklearn/svm/base.py:196: FutureWarning: The default value of gamma will change from 'auto' to 'scale' in version 0.22 to account better for unscaled features. Set gamma explicitly to 'auto' or 'scale' to avoid this warning.\n",
      "  \"avoid this warning.\", FutureWarning)\n",
      "/anaconda3/lib/python3.7/site-packages/sklearn/svm/base.py:196: FutureWarning: The default value of gamma will change from 'auto' to 'scale' in version 0.22 to account better for unscaled features. Set gamma explicitly to 'auto' or 'scale' to avoid this warning.\n",
      "  \"avoid this warning.\", FutureWarning)\n",
      "/anaconda3/lib/python3.7/site-packages/sklearn/svm/base.py:196: FutureWarning: The default value of gamma will change from 'auto' to 'scale' in version 0.22 to account better for unscaled features. Set gamma explicitly to 'auto' or 'scale' to avoid this warning.\n",
      "  \"avoid this warning.\", FutureWarning)\n"
     ]
    }
   ],
   "source": [
    "accuracies = cross_val_score(estimator = regressor, X = X_train, y = y_train, cv = 10)\n",
    "accuracy_rbf = accuracies.mean()\n",
    "std_rbf = accuracies.std()\n",
    "score_rbf = regressor.score(X_train, y_train)"
   ]
  },
  {
   "cell_type": "code",
   "execution_count": 96,
   "metadata": {},
   "outputs": [],
   "source": [
    "model = [['rbf', diff_rbf, accuracy_rbf, std_rbf, score_rbf], ['mlr', diff_lr, accuracy_lr, std_lr, score_lr], ['rfr', diff_rfr, accuracy_rfr, std_rfr, score_rfr]]\n",
    "columns = ['model', 'avg.diff', 'accuracy', 'accuracy_std', 'score']\n",
    "models = pd.DataFrame(model, columns = columns)"
   ]
  },
  {
   "cell_type": "code",
   "execution_count": 97,
   "metadata": {},
   "outputs": [
    {
     "data": {
      "text/html": [
       "<div>\n",
       "<style scoped>\n",
       "    .dataframe tbody tr th:only-of-type {\n",
       "        vertical-align: middle;\n",
       "    }\n",
       "\n",
       "    .dataframe tbody tr th {\n",
       "        vertical-align: top;\n",
       "    }\n",
       "\n",
       "    .dataframe thead th {\n",
       "        text-align: right;\n",
       "    }\n",
       "</style>\n",
       "<table border=\"1\" class=\"dataframe\">\n",
       "  <thead>\n",
       "    <tr style=\"text-align: right;\">\n",
       "      <th></th>\n",
       "      <th>model</th>\n",
       "      <th>avg.diff</th>\n",
       "      <th>accuracy</th>\n",
       "      <th>accuracy_std</th>\n",
       "      <th>score</th>\n",
       "    </tr>\n",
       "  </thead>\n",
       "  <tbody>\n",
       "    <tr>\n",
       "      <th>2</th>\n",
       "      <td>rfr</td>\n",
       "      <td>3.251149</td>\n",
       "      <td>0.781785</td>\n",
       "      <td>0.146994</td>\n",
       "      <td>0.976241</td>\n",
       "    </tr>\n",
       "    <tr>\n",
       "      <th>1</th>\n",
       "      <td>mlr</td>\n",
       "      <td>4.002414</td>\n",
       "      <td>0.791160</td>\n",
       "      <td>0.077707</td>\n",
       "      <td>0.856896</td>\n",
       "    </tr>\n",
       "    <tr>\n",
       "      <th>0</th>\n",
       "      <td>rbf</td>\n",
       "      <td>5.476877</td>\n",
       "      <td>0.458984</td>\n",
       "      <td>0.161395</td>\n",
       "      <td>0.486807</td>\n",
       "    </tr>\n",
       "  </tbody>\n",
       "</table>\n",
       "</div>"
      ],
      "text/plain": [
       "  model  avg.diff  accuracy  accuracy_std     score\n",
       "2   rfr  3.251149  0.781785      0.146994  0.976241\n",
       "1   mlr  4.002414  0.791160      0.077707  0.856896\n",
       "0   rbf  5.476877  0.458984      0.161395  0.486807"
      ]
     },
     "execution_count": 97,
     "metadata": {},
     "output_type": "execute_result"
    }
   ],
   "source": [
    "# Here we can clearly see that the best model is the random forest regression. It has the highest score and lowest\n",
    "# avg.diff which is postive. Also the accuracy is not too high so no worry about overfitting.\n",
    "models.sort_values('score', ascending = False)"
   ]
  },
  {
   "cell_type": "code",
   "execution_count": 98,
   "metadata": {},
   "outputs": [
    {
     "data": {
      "text/html": [
       "<div>\n",
       "<style scoped>\n",
       "    .dataframe tbody tr th:only-of-type {\n",
       "        vertical-align: middle;\n",
       "    }\n",
       "\n",
       "    .dataframe tbody tr th {\n",
       "        vertical-align: top;\n",
       "    }\n",
       "\n",
       "    .dataframe thead th {\n",
       "        text-align: right;\n",
       "    }\n",
       "</style>\n",
       "<table border=\"1\" class=\"dataframe\">\n",
       "  <thead>\n",
       "    <tr style=\"text-align: right;\">\n",
       "      <th></th>\n",
       "      <th>name</th>\n",
       "      <th>club</th>\n",
       "      <th>age</th>\n",
       "      <th>position</th>\n",
       "      <th>position_cat</th>\n",
       "      <th>page_views</th>\n",
       "      <th>fpl_value</th>\n",
       "      <th>fpl_sel</th>\n",
       "      <th>fpl_points</th>\n",
       "      <th>region</th>\n",
       "      <th>...</th>\n",
       "      <th>club_id</th>\n",
       "      <th>big_club</th>\n",
       "      <th>new_signing</th>\n",
       "      <th>goals</th>\n",
       "      <th>assists</th>\n",
       "      <th>wins</th>\n",
       "      <th>price</th>\n",
       "      <th>mean_fee</th>\n",
       "      <th>max_fee</th>\n",
       "      <th>up_do</th>\n",
       "    </tr>\n",
       "  </thead>\n",
       "  <tbody>\n",
       "    <tr>\n",
       "      <th>0</th>\n",
       "      <td>Markus Suttner</td>\n",
       "      <td>Brighton+and+Hove</td>\n",
       "      <td>30</td>\n",
       "      <td>LB</td>\n",
       "      <td>3</td>\n",
       "      <td>23</td>\n",
       "      <td>4.5</td>\n",
       "      <td>0.002</td>\n",
       "      <td>0</td>\n",
       "      <td>2.0</td>\n",
       "      <td>...</td>\n",
       "      <td>3</td>\n",
       "      <td>0</td>\n",
       "      <td>0</td>\n",
       "      <td>0.090909</td>\n",
       "      <td>0.038961</td>\n",
       "      <td>44.0</td>\n",
       "      <td>2.0</td>\n",
       "      <td>2.3400</td>\n",
       "      <td>4.05</td>\n",
       "      <td>1.0</td>\n",
       "    </tr>\n",
       "    <tr>\n",
       "      <th>1</th>\n",
       "      <td>Ross Barkley</td>\n",
       "      <td>Everton</td>\n",
       "      <td>23</td>\n",
       "      <td>AM</td>\n",
       "      <td>1</td>\n",
       "      <td>1413</td>\n",
       "      <td>7.5</td>\n",
       "      <td>0.007</td>\n",
       "      <td>144</td>\n",
       "      <td>1.0</td>\n",
       "      <td>...</td>\n",
       "      <td>7</td>\n",
       "      <td>0</td>\n",
       "      <td>0</td>\n",
       "      <td>0.046784</td>\n",
       "      <td>0.105263</td>\n",
       "      <td>82.0</td>\n",
       "      <td>25.0</td>\n",
       "      <td>9.6300</td>\n",
       "      <td>15.21</td>\n",
       "      <td>1.0</td>\n",
       "    </tr>\n",
       "    <tr>\n",
       "      <th>2</th>\n",
       "      <td>Dusan Tadic</td>\n",
       "      <td>Southampton</td>\n",
       "      <td>28</td>\n",
       "      <td>LW</td>\n",
       "      <td>1</td>\n",
       "      <td>458</td>\n",
       "      <td>6.5</td>\n",
       "      <td>0.049</td>\n",
       "      <td>108</td>\n",
       "      <td>2.0</td>\n",
       "      <td>...</td>\n",
       "      <td>14</td>\n",
       "      <td>0</td>\n",
       "      <td>0</td>\n",
       "      <td>0.080000</td>\n",
       "      <td>0.100000</td>\n",
       "      <td>0.0</td>\n",
       "      <td>17.0</td>\n",
       "      <td>0.4000</td>\n",
       "      <td>0.40</td>\n",
       "      <td>0.0</td>\n",
       "    </tr>\n",
       "    <tr>\n",
       "      <th>3</th>\n",
       "      <td>Sadio Mane</td>\n",
       "      <td>Liverpool</td>\n",
       "      <td>25</td>\n",
       "      <td>LW</td>\n",
       "      <td>1</td>\n",
       "      <td>3219</td>\n",
       "      <td>9.5</td>\n",
       "      <td>0.053</td>\n",
       "      <td>156</td>\n",
       "      <td>4.0</td>\n",
       "      <td>...</td>\n",
       "      <td>10</td>\n",
       "      <td>1</td>\n",
       "      <td>1</td>\n",
       "      <td>0.359813</td>\n",
       "      <td>0.130841</td>\n",
       "      <td>119.0</td>\n",
       "      <td>40.0</td>\n",
       "      <td>20.4600</td>\n",
       "      <td>37.08</td>\n",
       "      <td>1.0</td>\n",
       "    </tr>\n",
       "    <tr>\n",
       "      <th>4</th>\n",
       "      <td>Nathan Ake</td>\n",
       "      <td>Bournemouth</td>\n",
       "      <td>22</td>\n",
       "      <td>CB</td>\n",
       "      <td>3</td>\n",
       "      <td>1274</td>\n",
       "      <td>5.0</td>\n",
       "      <td>0.115</td>\n",
       "      <td>55</td>\n",
       "      <td>2.0</td>\n",
       "      <td>...</td>\n",
       "      <td>2</td>\n",
       "      <td>0</td>\n",
       "      <td>0</td>\n",
       "      <td>0.044444</td>\n",
       "      <td>0.200000</td>\n",
       "      <td>27.0</td>\n",
       "      <td>8.0</td>\n",
       "      <td>4.4488</td>\n",
       "      <td>20.52</td>\n",
       "      <td>1.0</td>\n",
       "    </tr>\n",
       "  </tbody>\n",
       "</table>\n",
       "<p>5 rows × 23 columns</p>\n",
       "</div>"
      ],
      "text/plain": [
       "             name               club  age position  position_cat  page_views  \\\n",
       "0  Markus Suttner  Brighton+and+Hove   30       LB             3          23   \n",
       "1    Ross Barkley            Everton   23       AM             1        1413   \n",
       "2     Dusan Tadic        Southampton   28       LW             1         458   \n",
       "3      Sadio Mane          Liverpool   25       LW             1        3219   \n",
       "4      Nathan Ake        Bournemouth   22       CB             3        1274   \n",
       "\n",
       "   fpl_value  fpl_sel  fpl_points  region  ...   club_id  big_club  \\\n",
       "0        4.5    0.002           0     2.0  ...         3         0   \n",
       "1        7.5    0.007         144     1.0  ...         7         0   \n",
       "2        6.5    0.049         108     2.0  ...        14         0   \n",
       "3        9.5    0.053         156     4.0  ...        10         1   \n",
       "4        5.0    0.115          55     2.0  ...         2         0   \n",
       "\n",
       "   new_signing     goals   assists   wins  price  mean_fee  max_fee  up_do  \n",
       "0            0  0.090909  0.038961   44.0    2.0    2.3400     4.05    1.0  \n",
       "1            0  0.046784  0.105263   82.0   25.0    9.6300    15.21    1.0  \n",
       "2            0  0.080000  0.100000    0.0   17.0    0.4000     0.40    0.0  \n",
       "3            1  0.359813  0.130841  119.0   40.0   20.4600    37.08    1.0  \n",
       "4            0  0.044444  0.200000   27.0    8.0    4.4488    20.52    1.0  \n",
       "\n",
       "[5 rows x 23 columns]"
      ]
     },
     "execution_count": 98,
     "metadata": {},
     "output_type": "execute_result"
    }
   ],
   "source": [
    "players.head()"
   ]
  },
  {
   "cell_type": "markdown",
   "metadata": {},
   "source": [
    "# Focusing on random forest regression"
   ]
  },
  {
   "cell_type": "code",
   "execution_count": 100,
   "metadata": {},
   "outputs": [],
   "source": [
    "# Seperating the market-value of players into bins\n",
    "#rfr model\n",
    "rfr_c1['Model'] = np.where(rfr_c1['Model'] > 35, 3, (np.where(rfr_c1['Model'] < 12, 2, 1)))\n",
    "rfr_c1['Actual'] = np.where(rfr_c1['Actual'] > 35, 3, (np.where(rfr_c1['Actual'] < 12, 2, 1)))"
   ]
  },
  {
   "cell_type": "code",
   "execution_count": 103,
   "metadata": {},
   "outputs": [
    {
     "data": {
      "image/png": "[encoded data removed]",
      "text/plain": [
       "<Figure size 432x288 with 1 Axes>"
      ]
     },
     "metadata": {
      "needs_background": "light"
     },
     "output_type": "display_data"
    },
    {
     "name": "stdout",
     "output_type": "stream",
     "text": [
      "3\n"
     ]
    }
   ],
   "source": [
    "# Plot roc curves for all three classes which correspond to the market-value of players.\n",
    "y_test = label_binarize(rfr_c1['Actual'], classes=[1, 2, 3]) \n",
    "y_score = label_binarize(rfr_c1['Model'], classes=[1, 2, 3])\n",
    "n_classes = y_test.shape[1]\n",
    "lw = 3\n",
    "\n",
    "fpr = dict()\n",
    "tpr = dict()\n",
    "roc_auc = dict()\n",
    "for i in range(n_classes):\n",
    "    fpr[i], tpr[i], _ = roc_curve(y_test[:, i], y_score[:, i])\n",
    "    roc_auc[i] = auc(fpr[i], tpr[i])\n",
    "colors = cycle(['blue', 'red', 'green'])\n",
    "for i, color in zip(range(n_classes), colors):\n",
    "    plt.plot(fpr[i], tpr[i], color=color, lw=lw,\n",
    "             label='ROC curve of class {0} (area = {1:0.2f})'\n",
    "             ''.format(i, roc_auc[i]))\n",
    "plt.plot([0, 1], [0, 1], 'k--', lw=lw)\n",
    "plt.xlim([-0.05, 1.0])\n",
    "plt.ylim([0.0, 1.05])\n",
    "plt.xlabel('False Positive Rate')\n",
    "plt.ylabel('True Positive Rate')\n",
    "plt.title('Receiver operating characteristic for multi-class data')\n",
    "plt.legend(loc=\"lower right\")\n",
    "plt.show()\n",
    "print(y_test.shape[1])"
   ]
  },
  {
   "cell_type": "code",
   "execution_count": 105,
   "metadata": {},
   "outputs": [
    {
     "name": "stdout",
     "output_type": "stream",
     "text": [
      "Normalized confusion matrix\n",
      "[[0.93233083 0.05263158 0.01503759]\n",
      " [0.01520913 0.98479087 0.        ]\n",
      " [0.2        0.         0.8       ]]\n"
     ]
    },
    {
     "data": {
      "text/plain": [
       "<matplotlib.axes._subplots.AxesSubplot at 0x1a1f387f60>"
      ]
     },
     "execution_count": 105,
     "metadata": {},
     "output_type": "execute_result"
    },
    {
     "data": {
      "image/png": "[encoded data removed]",
      "text/plain": [
       "<Figure size 648x648 with 2 Axes>"
      ]
     },
     "metadata": {
      "needs_background": "light"
     },
     "output_type": "display_data"
    }
   ],
   "source": [
    "# Plotting confusin matrix\n",
    "def plot_confusion_matrix(y_true, y_pred, normalize=False, title=None, cmap=plt.cm.Blues):\n",
    "\n",
    "    if not title:\n",
    "        if normalize:\n",
    "            title = 'Normalized confusion matrix'\n",
    "        else:\n",
    "            title = 'Confusion matrix, without normalization'\n",
    "\n",
    "    # Compute confusion matrix\n",
    "    cm = confusion_matrix(y_true, y_pred)\n",
    "    # Only use the labels that appear in the data\n",
    "    if normalize:\n",
    "        cm = cm.astype('float') / cm.sum(axis=1)[:, np.newaxis]\n",
    "        print(\"Normalized confusion matrix\")\n",
    "    else:\n",
    "        print('Confusion matrix, without normalization')\n",
    "\n",
    "    print(cm)\n",
    "\n",
    "    fig, ax = plt.subplots(figsize=(9,9))\n",
    "    im = ax.imshow(cm, interpolation='nearest', cmap=cmap)\n",
    "    ax.figure.colorbar(im, ax=ax)\n",
    "    # We want to show all ticks...\n",
    "    ax.set(xticks=np.arange(cm.shape[1]),\n",
    "           yticks=np.arange(cm.shape[0]),\n",
    "           title=title,\n",
    "           ylabel='True label',\n",
    "           xlabel='Predicted label')\n",
    "\n",
    "    # Rotate the tick labels and set their alignment.\n",
    "    plt.setp(ax.get_xticklabels(), rotation=45, ha=\"right\",\n",
    "             rotation_mode=\"anchor\")\n",
    "\n",
    "    # Loop over data dimensions and create text annotations.\n",
    "    fmt = '.2f' if normalize else 'd'\n",
    "    thresh = cm.max() / 2.\n",
    "    for i in range(cm.shape[0]):\n",
    "        for j in range(cm.shape[1]):\n",
    "            ax.text(j, i, format(cm[i, j], fmt),\n",
    "                    ha=\"center\", va=\"center\",\n",
    "                    color=\"white\" if cm[i, j] > thresh else \"black\")\n",
    "    fig.tight_layout()\n",
    "    return ax\n",
    "plot_confusion_matrix(rfr_c1['Actual'], rfr_c1['Model'], normalize=True, title=False, cmap=plt.cm.Blues)"
   ]
  },
  {
   "cell_type": "code",
   "execution_count": 106,
   "metadata": {},
   "outputs": [],
   "source": [
    "# From the data above we can see that the model fails predicting the player's prices of class 2 which correspond\n",
    "# tp the more expensive players"
   ]
  },
  {
   "cell_type": "code",
   "execution_count": 110,
   "metadata": {},
   "outputs": [],
   "source": [
    "rf = rfr_c1.loc[(rfr_c1.Actual < 3) & (rfr_c1.Model < 3)]"
   ]
  },
  {
   "cell_type": "code",
   "execution_count": 111,
   "metadata": {},
   "outputs": [
    {
     "data": {
      "image/png": "[encoded data removed]",
      "text/plain": [
       "<Figure size 432x288 with 1 Axes>"
      ]
     },
     "metadata": {
      "needs_background": "light"
     },
     "output_type": "display_data"
    }
   ],
   "source": [
    "# plotting roc curve for updated model\n",
    "y_test = label_binarize(rf['Actual'], classes=[1, 2]) \n",
    "y_score = label_binarize(rf['Model'], classes=[1, 2])\n",
    "n_classes = y_test.shape[1] \n",
    "lw = 2\n",
    "\n",
    "fpr = dict()\n",
    "tpr = dict()\n",
    "roc_auc = dict()\n",
    "for i in range(n_classes):\n",
    "    fpr[i], tpr[i], _ = roc_curve(y_test, y_score)\n",
    "    roc_auc[i] = auc(fpr[i], tpr[i])\n",
    "colors = cycle(['blue', 'red', 'green'])\n",
    "for i, color in zip(range(n_classes), colors):\n",
    "    plt.plot(fpr[i], tpr[i], color=color, lw=lw,\n",
    "             label='ROC curve of class {0} (area = {1:0.2f})'\n",
    "             ''.format(i, roc_auc[i]))\n",
    "plt.plot([0, 1], [0, 1], 'k--', lw=lw)\n",
    "plt.xlim([-0.05, 1.0])\n",
    "plt.ylim([0.0, 1.05])\n",
    "plt.xlabel('False Positive Rate')\n",
    "plt.ylabel('True Positive Rate')\n",
    "plt.title('Receiver operating characteristic for multi-class data')\n",
    "plt.legend(loc=\"lower right\")\n",
    "plt.show()"
   ]
  },
  {
   "cell_type": "code",
   "execution_count": 112,
   "metadata": {},
   "outputs": [
    {
     "name": "stdout",
     "output_type": "stream",
     "text": [
      "Balanced Accuracy Score:  0.9656778800104491\n",
      "Accuracy_score:  0.9720812182741116\n",
      "Precision:  0.96875\n",
      "Recall:  0.9465648854961832\n",
      "F-score:  0.9575289575289575\n"
     ]
    }
   ],
   "source": [
    "# These stats reflect a very positive view of the model. There may be a case of overfitting but i doubt it.\n",
    "from sklearn.metrics import precision_score, recall_score, f1_score\n",
    "\n",
    "balanced_score = balanced_accuracy_score(rf.Actual, rf.Model)\n",
    "score = accuracy_score(rf.Actual, rf.Model)\n",
    "precision = precision_score(rf.Actual, rf.Model)\n",
    "recall = recall_score(rf.Actual, rf.Model)\n",
    "f1_score = f1_score(rf.Actual, rf.Model)\n",
    "\n",
    "print('Balanced Accuracy Score: ', balanced_score)\n",
    "print('Accuracy_score: ', score)\n",
    "print('Precision: ', precision)\n",
    "print('Recall: ', recall)\n",
    "print('F-score: ', f1_score)"
   ]
  },
  {
   "cell_type": "code",
   "execution_count": 113,
   "metadata": {},
   "outputs": [
    {
     "name": "stdout",
     "output_type": "stream",
     "text": [
      "Normalized confusion matrix\n",
      "[[0.94656489 0.05343511]\n",
      " [0.01520913 0.98479087]]\n"
     ]
    },
    {
     "data": {
      "text/plain": [
       "<matplotlib.axes._subplots.AxesSubplot at 0x1a1efc49e8>"
      ]
     },
     "execution_count": 113,
     "metadata": {},
     "output_type": "execute_result"
    },
    {
     "data": {
      "image/png": "[encoded data removed]",
      "text/plain": [
       "<Figure size 504x504 with 2 Axes>"
      ]
     },
     "metadata": {
      "needs_background": "light"
     },
     "output_type": "display_data"
    }
   ],
   "source": [
    "#Plot confusion matrix\n",
    "def plot_confusion_matrix(y_true, y_pred, normalize=False, title=None, cmap=plt.cm.Blues):\n",
    "    \"\"\"\n",
    "    This function prints and plots the confusion matrix.\n",
    "    Normalization can be applied by setting `normalize=True`.\n",
    "    \"\"\"\n",
    "    if not title:\n",
    "        if normalize:\n",
    "            title = 'Normalized confusion matrix'\n",
    "        else:\n",
    "            title = 'Confusion matrix, without normalization'\n",
    "\n",
    "    # Compute confusion matrix\n",
    "    cm = confusion_matrix(y_true, y_pred)\n",
    "    # Only use the labels that appear in the data\n",
    "    if normalize:\n",
    "        cm = cm.astype('float') / cm.sum(axis=1)[:, np.newaxis]\n",
    "        print(\"Normalized confusion matrix\")\n",
    "    else:\n",
    "        print('Confusion matrix, without normalization')\n",
    "\n",
    "    print(cm)\n",
    "\n",
    "    fig, ax = plt.subplots(figsize=(7,7))\n",
    "    im = ax.imshow(cm, interpolation='nearest', cmap=cmap)\n",
    "    ax.figure.colorbar(im, ax=ax)\n",
    "    # We want to show all ticks...\n",
    "    ax.set(xticks=np.arange(cm.shape[1]),\n",
    "           yticks=np.arange(cm.shape[0]),\n",
    "           title=title,\n",
    "           ylabel='True label',\n",
    "           xlabel='Predicted label')\n",
    "\n",
    "    # Rotate the tick labels and set their alignment.\n",
    "    plt.setp(ax.get_xticklabels(), rotation=45, ha=\"right\",\n",
    "             rotation_mode=\"anchor\")\n",
    "\n",
    "    # Loop over data dimensions and create text annotations.\n",
    "    fmt = '.2f' if normalize else 'd'\n",
    "    thresh = cm.max() / 2.\n",
    "    for i in range(cm.shape[0]):\n",
    "        for j in range(cm.shape[1]):\n",
    "            ax.text(j, i, format(cm[i, j], fmt),\n",
    "                    ha=\"center\", va=\"center\",\n",
    "                    color=\"white\" if cm[i, j] > thresh else \"black\")\n",
    "    fig.tight_layout()\n",
    "    return ax\n",
    "plot_confusion_matrix(rf['Actual'], rf['Model'], normalize=True, title=False, cmap=plt.cm.Blues)"
   ]
  },
  {
   "cell_type": "code",
   "execution_count": 114,
   "metadata": {},
   "outputs": [],
   "source": [
    "# From the model above I can't see any drastic improvements from removing the player's which cost more than 35 million. "
   ]
  },
  {
   "cell_type": "markdown",
   "metadata": {},
   "source": [
    "# Final Results"
   ]
  },
  {
   "cell_type": "code",
   "execution_count": 115,
   "metadata": {},
   "outputs": [],
   "source": [
    "# Given that we saw no improvement in the model, we revert back to the orginal model. It seems to perform quite well. "
   ]
  },
  {
   "cell_type": "code",
   "execution_count": 116,
   "metadata": {},
   "outputs": [
    {
     "data": {
      "text/html": [
       "<div>\n",
       "<style scoped>\n",
       "    .dataframe tbody tr th:only-of-type {\n",
       "        vertical-align: middle;\n",
       "    }\n",
       "\n",
       "    .dataframe tbody tr th {\n",
       "        vertical-align: top;\n",
       "    }\n",
       "\n",
       "    .dataframe thead th {\n",
       "        text-align: right;\n",
       "    }\n",
       "</style>\n",
       "<table border=\"1\" class=\"dataframe\">\n",
       "  <thead>\n",
       "    <tr style=\"text-align: right;\">\n",
       "      <th></th>\n",
       "      <th>name</th>\n",
       "      <th>Model</th>\n",
       "      <th>Actual</th>\n",
       "    </tr>\n",
       "  </thead>\n",
       "  <tbody>\n",
       "    <tr>\n",
       "      <th>0</th>\n",
       "      <td>Mason Holgate</td>\n",
       "      <td>2</td>\n",
       "      <td>2</td>\n",
       "    </tr>\n",
       "    <tr>\n",
       "      <th>1</th>\n",
       "      <td>Jamie Murphy</td>\n",
       "      <td>2</td>\n",
       "      <td>2</td>\n",
       "    </tr>\n",
       "    <tr>\n",
       "      <th>2</th>\n",
       "      <td>Jonathan Hogg</td>\n",
       "      <td>2</td>\n",
       "      <td>2</td>\n",
       "    </tr>\n",
       "    <tr>\n",
       "      <th>3</th>\n",
       "      <td>Jordan Pickford</td>\n",
       "      <td>1</td>\n",
       "      <td>1</td>\n",
       "    </tr>\n",
       "    <tr>\n",
       "      <th>4</th>\n",
       "      <td>Philip Billing</td>\n",
       "      <td>2</td>\n",
       "      <td>2</td>\n",
       "    </tr>\n",
       "    <tr>\n",
       "      <th>5</th>\n",
       "      <td>David Luiz</td>\n",
       "      <td>1</td>\n",
       "      <td>1</td>\n",
       "    </tr>\n",
       "    <tr>\n",
       "      <th>6</th>\n",
       "      <td>Fraser Forster</td>\n",
       "      <td>1</td>\n",
       "      <td>1</td>\n",
       "    </tr>\n",
       "    <tr>\n",
       "      <th>7</th>\n",
       "      <td>Marko Arnautovic</td>\n",
       "      <td>1</td>\n",
       "      <td>1</td>\n",
       "    </tr>\n",
       "    <tr>\n",
       "      <th>8</th>\n",
       "      <td>Jan Vertonghen</td>\n",
       "      <td>1</td>\n",
       "      <td>1</td>\n",
       "    </tr>\n",
       "    <tr>\n",
       "      <th>9</th>\n",
       "      <td>Diafra Sakho</td>\n",
       "      <td>2</td>\n",
       "      <td>2</td>\n",
       "    </tr>\n",
       "  </tbody>\n",
       "</table>\n",
       "</div>"
      ],
      "text/plain": [
       "               name  Model  Actual\n",
       "0     Mason Holgate      2       2\n",
       "1      Jamie Murphy      2       2\n",
       "2     Jonathan Hogg      2       2\n",
       "3   Jordan Pickford      1       1\n",
       "4    Philip Billing      2       2\n",
       "5        David Luiz      1       1\n",
       "6    Fraser Forster      1       1\n",
       "7  Marko Arnautovic      1       1\n",
       "8    Jan Vertonghen      1       1\n",
       "9      Diafra Sakho      2       2"
      ]
     },
     "execution_count": 116,
     "metadata": {},
     "output_type": "execute_result"
    }
   ],
   "source": [
    "pres_fees = pd.concat([players.name, rfr_c1], axis = 1)\n",
    "pres_fees = pres_fees.sample(frac=1)\n",
    "pres_fees.reset_index(inplace = True, drop=True)\n",
    "pres_fees.head(10)"
   ]
  },
  {
   "cell_type": "code",
   "execution_count": 117,
   "metadata": {},
   "outputs": [],
   "source": [
    "pres_fees['Delta %'] = abs(pres_fees.Model - pres_fees.Actual)*100/pres_fees.Actual"
   ]
  },
  {
   "cell_type": "code",
   "execution_count": 118,
   "metadata": {},
   "outputs": [
    {
     "data": {
      "text/html": [
       "<div>\n",
       "<style scoped>\n",
       "    .dataframe tbody tr th:only-of-type {\n",
       "        vertical-align: middle;\n",
       "    }\n",
       "\n",
       "    .dataframe tbody tr th {\n",
       "        vertical-align: top;\n",
       "    }\n",
       "\n",
       "    .dataframe thead th {\n",
       "        text-align: right;\n",
       "    }\n",
       "</style>\n",
       "<table border=\"1\" class=\"dataframe\">\n",
       "  <thead>\n",
       "    <tr style=\"text-align: right;\">\n",
       "      <th></th>\n",
       "      <th>name</th>\n",
       "      <th>Model</th>\n",
       "      <th>Actual</th>\n",
       "      <th>Delta %</th>\n",
       "    </tr>\n",
       "  </thead>\n",
       "  <tbody>\n",
       "    <tr>\n",
       "      <th>0</th>\n",
       "      <td>Mason Holgate</td>\n",
       "      <td>2</td>\n",
       "      <td>2</td>\n",
       "      <td>0.0</td>\n",
       "    </tr>\n",
       "    <tr>\n",
       "      <th>1</th>\n",
       "      <td>Jamie Murphy</td>\n",
       "      <td>2</td>\n",
       "      <td>2</td>\n",
       "      <td>0.0</td>\n",
       "    </tr>\n",
       "    <tr>\n",
       "      <th>2</th>\n",
       "      <td>Jonathan Hogg</td>\n",
       "      <td>2</td>\n",
       "      <td>2</td>\n",
       "      <td>0.0</td>\n",
       "    </tr>\n",
       "    <tr>\n",
       "      <th>3</th>\n",
       "      <td>Jordan Pickford</td>\n",
       "      <td>1</td>\n",
       "      <td>1</td>\n",
       "      <td>0.0</td>\n",
       "    </tr>\n",
       "    <tr>\n",
       "      <th>4</th>\n",
       "      <td>Philip Billing</td>\n",
       "      <td>2</td>\n",
       "      <td>2</td>\n",
       "      <td>0.0</td>\n",
       "    </tr>\n",
       "    <tr>\n",
       "      <th>5</th>\n",
       "      <td>David Luiz</td>\n",
       "      <td>1</td>\n",
       "      <td>1</td>\n",
       "      <td>0.0</td>\n",
       "    </tr>\n",
       "    <tr>\n",
       "      <th>6</th>\n",
       "      <td>Fraser Forster</td>\n",
       "      <td>1</td>\n",
       "      <td>1</td>\n",
       "      <td>0.0</td>\n",
       "    </tr>\n",
       "    <tr>\n",
       "      <th>7</th>\n",
       "      <td>Marko Arnautovic</td>\n",
       "      <td>1</td>\n",
       "      <td>1</td>\n",
       "      <td>0.0</td>\n",
       "    </tr>\n",
       "    <tr>\n",
       "      <th>8</th>\n",
       "      <td>Jan Vertonghen</td>\n",
       "      <td>1</td>\n",
       "      <td>1</td>\n",
       "      <td>0.0</td>\n",
       "    </tr>\n",
       "    <tr>\n",
       "      <th>9</th>\n",
       "      <td>Diafra Sakho</td>\n",
       "      <td>2</td>\n",
       "      <td>2</td>\n",
       "      <td>0.0</td>\n",
       "    </tr>\n",
       "  </tbody>\n",
       "</table>\n",
       "</div>"
      ],
      "text/plain": [
       "               name  Model  Actual  Delta %\n",
       "0     Mason Holgate      2       2      0.0\n",
       "1      Jamie Murphy      2       2      0.0\n",
       "2     Jonathan Hogg      2       2      0.0\n",
       "3   Jordan Pickford      1       1      0.0\n",
       "4    Philip Billing      2       2      0.0\n",
       "5        David Luiz      1       1      0.0\n",
       "6    Fraser Forster      1       1      0.0\n",
       "7  Marko Arnautovic      1       1      0.0\n",
       "8    Jan Vertonghen      1       1      0.0\n",
       "9      Diafra Sakho      2       2      0.0"
      ]
     },
     "execution_count": 118,
     "metadata": {},
     "output_type": "execute_result"
    }
   ],
   "source": [
    "pres_fees.head(10)"
   ]
  },
  {
   "cell_type": "code",
   "execution_count": 119,
   "metadata": {},
   "outputs": [
    {
     "name": "stdout",
     "output_type": "stream",
     "text": [
      "r2_score:  0.7138308535938206\n"
     ]
    }
   ],
   "source": [
    "# Postive r-2 score. Positve result\n",
    "from sklearn.metrics import r2_score\n",
    "print('r2_score: ', r2_score(rfr_c1.Actual, rfr_c1.Model))"
   ]
  },
  {
   "cell_type": "code",
   "execution_count": 120,
   "metadata": {},
   "outputs": [
    {
     "name": "stdout",
     "output_type": "stream",
     "text": [
      "mean_squared_error:  0.08413461538461539\n"
     ]
    }
   ],
   "source": [
    "# The mean squard erro does not vary that much so that is positive as well.\n",
    "from sklearn.metrics import mean_squared_error\n",
    "\n",
    "print('mean_squared_error: ', mean_squared_error(rfr_c1.Actual, rfr_c1.Model))"
   ]
  },
  {
   "cell_type": "code",
   "execution_count": null,
   "metadata": {},
   "outputs": [],
   "source": []
  },
  {
   "cell_type": "code",
   "execution_count": null,
   "metadata": {},
   "outputs": [],
   "source": []
  }
 ],
 "metadata": {
  "kernelspec": {
   "display_name": "Python 3",
   "language": "python",
   "name": "python3"
  },
  "language_info": {
   "codemirror_mode": {
    "name": "ipython",
    "version": 3
   },
   "file_extension": ".py",
   "mimetype": "text/x-python",
   "name": "python",
   "nbconvert_exporter": "python",
   "pygments_lexer": "ipython3",
   "version": "3.7.1"
  }
 },
 "nbformat": 4,
 "nbformat_minor": 2
}
